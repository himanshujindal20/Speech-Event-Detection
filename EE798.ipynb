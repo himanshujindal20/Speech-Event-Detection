{
  "nbformat": 4,
  "nbformat_minor": 0,
  "metadata": {
    "colab": {
      "provenance": []
    },
    "kernelspec": {
      "name": "python3",
      "display_name": "Python 3"
    },
    "language_info": {
      "name": "python"
    },
    "widgets": {
      "application/vnd.jupyter.widget-state+json": {
        "b97e7bf6c06543c19c49418e0dd71e04": {
          "model_module": "@jupyter-widgets/controls",
          "model_name": "HBoxModel",
          "model_module_version": "1.5.0",
          "state": {
            "_dom_classes": [],
            "_model_module": "@jupyter-widgets/controls",
            "_model_module_version": "1.5.0",
            "_model_name": "HBoxModel",
            "_view_count": null,
            "_view_module": "@jupyter-widgets/controls",
            "_view_module_version": "1.5.0",
            "_view_name": "HBoxView",
            "box_style": "",
            "children": [
              "IPY_MODEL_e323b1b6d972459e873aa25e9820bff8",
              "IPY_MODEL_455f34b487e949b5a877f3a4a9ed9cac",
              "IPY_MODEL_42d2711f1574478bacc47bc1787a91d4"
            ],
            "layout": "IPY_MODEL_8e2276ee02344429a665b0bd7a65ae1b"
          }
        },
        "e323b1b6d972459e873aa25e9820bff8": {
          "model_module": "@jupyter-widgets/controls",
          "model_name": "HTMLModel",
          "model_module_version": "1.5.0",
          "state": {
            "_dom_classes": [],
            "_model_module": "@jupyter-widgets/controls",
            "_model_module_version": "1.5.0",
            "_model_name": "HTMLModel",
            "_view_count": null,
            "_view_module": "@jupyter-widgets/controls",
            "_view_module_version": "1.5.0",
            "_view_name": "HTMLView",
            "description": "",
            "description_tooltip": null,
            "layout": "IPY_MODEL_75d892479b3244c08bde716e3e5ecfe1",
            "placeholder": "​",
            "style": "IPY_MODEL_11eb1932a258458aa7d55183dd072eef",
            "value": "100%"
          }
        },
        "455f34b487e949b5a877f3a4a9ed9cac": {
          "model_module": "@jupyter-widgets/controls",
          "model_name": "FloatProgressModel",
          "model_module_version": "1.5.0",
          "state": {
            "_dom_classes": [],
            "_model_module": "@jupyter-widgets/controls",
            "_model_module_version": "1.5.0",
            "_model_name": "FloatProgressModel",
            "_view_count": null,
            "_view_module": "@jupyter-widgets/controls",
            "_view_module_version": "1.5.0",
            "_view_name": "ProgressView",
            "bar_style": "success",
            "description": "",
            "description_tooltip": null,
            "layout": "IPY_MODEL_f59765b3452042abb6cc9940e2b3f6ce",
            "max": 500,
            "min": 0,
            "orientation": "horizontal",
            "style": "IPY_MODEL_a653d07671c24b7d9a1c5b7d2b4bc349",
            "value": 500
          }
        },
        "42d2711f1574478bacc47bc1787a91d4": {
          "model_module": "@jupyter-widgets/controls",
          "model_name": "HTMLModel",
          "model_module_version": "1.5.0",
          "state": {
            "_dom_classes": [],
            "_model_module": "@jupyter-widgets/controls",
            "_model_module_version": "1.5.0",
            "_model_name": "HTMLModel",
            "_view_count": null,
            "_view_module": "@jupyter-widgets/controls",
            "_view_module_version": "1.5.0",
            "_view_name": "HTMLView",
            "description": "",
            "description_tooltip": null,
            "layout": "IPY_MODEL_d053c568453849228a79721f4717ddb0",
            "placeholder": "​",
            "style": "IPY_MODEL_6d73a6fd4b2049a283970f7c2e666918",
            "value": " 500/500 [06:23&lt;00:00,  1.24epoch/s, loss=0.349, pr_auc=0.718, precision=0.644, recall=0.623, val_loss=0.367, val_pr_auc=0.689, val_precision=0.672, val_recall=0.525]"
          }
        },
        "8e2276ee02344429a665b0bd7a65ae1b": {
          "model_module": "@jupyter-widgets/base",
          "model_name": "LayoutModel",
          "model_module_version": "1.2.0",
          "state": {
            "_model_module": "@jupyter-widgets/base",
            "_model_module_version": "1.2.0",
            "_model_name": "LayoutModel",
            "_view_count": null,
            "_view_module": "@jupyter-widgets/base",
            "_view_module_version": "1.2.0",
            "_view_name": "LayoutView",
            "align_content": null,
            "align_items": null,
            "align_self": null,
            "border": null,
            "bottom": null,
            "display": null,
            "flex": null,
            "flex_flow": null,
            "grid_area": null,
            "grid_auto_columns": null,
            "grid_auto_flow": null,
            "grid_auto_rows": null,
            "grid_column": null,
            "grid_gap": null,
            "grid_row": null,
            "grid_template_areas": null,
            "grid_template_columns": null,
            "grid_template_rows": null,
            "height": null,
            "justify_content": null,
            "justify_items": null,
            "left": null,
            "margin": null,
            "max_height": null,
            "max_width": null,
            "min_height": null,
            "min_width": null,
            "object_fit": null,
            "object_position": null,
            "order": null,
            "overflow": null,
            "overflow_x": null,
            "overflow_y": null,
            "padding": null,
            "right": null,
            "top": null,
            "visibility": null,
            "width": null
          }
        },
        "75d892479b3244c08bde716e3e5ecfe1": {
          "model_module": "@jupyter-widgets/base",
          "model_name": "LayoutModel",
          "model_module_version": "1.2.0",
          "state": {
            "_model_module": "@jupyter-widgets/base",
            "_model_module_version": "1.2.0",
            "_model_name": "LayoutModel",
            "_view_count": null,
            "_view_module": "@jupyter-widgets/base",
            "_view_module_version": "1.2.0",
            "_view_name": "LayoutView",
            "align_content": null,
            "align_items": null,
            "align_self": null,
            "border": null,
            "bottom": null,
            "display": null,
            "flex": null,
            "flex_flow": null,
            "grid_area": null,
            "grid_auto_columns": null,
            "grid_auto_flow": null,
            "grid_auto_rows": null,
            "grid_column": null,
            "grid_gap": null,
            "grid_row": null,
            "grid_template_areas": null,
            "grid_template_columns": null,
            "grid_template_rows": null,
            "height": null,
            "justify_content": null,
            "justify_items": null,
            "left": null,
            "margin": null,
            "max_height": null,
            "max_width": null,
            "min_height": null,
            "min_width": null,
            "object_fit": null,
            "object_position": null,
            "order": null,
            "overflow": null,
            "overflow_x": null,
            "overflow_y": null,
            "padding": null,
            "right": null,
            "top": null,
            "visibility": null,
            "width": null
          }
        },
        "11eb1932a258458aa7d55183dd072eef": {
          "model_module": "@jupyter-widgets/controls",
          "model_name": "DescriptionStyleModel",
          "model_module_version": "1.5.0",
          "state": {
            "_model_module": "@jupyter-widgets/controls",
            "_model_module_version": "1.5.0",
            "_model_name": "DescriptionStyleModel",
            "_view_count": null,
            "_view_module": "@jupyter-widgets/base",
            "_view_module_version": "1.2.0",
            "_view_name": "StyleView",
            "description_width": ""
          }
        },
        "f59765b3452042abb6cc9940e2b3f6ce": {
          "model_module": "@jupyter-widgets/base",
          "model_name": "LayoutModel",
          "model_module_version": "1.2.0",
          "state": {
            "_model_module": "@jupyter-widgets/base",
            "_model_module_version": "1.2.0",
            "_model_name": "LayoutModel",
            "_view_count": null,
            "_view_module": "@jupyter-widgets/base",
            "_view_module_version": "1.2.0",
            "_view_name": "LayoutView",
            "align_content": null,
            "align_items": null,
            "align_self": null,
            "border": null,
            "bottom": null,
            "display": null,
            "flex": null,
            "flex_flow": null,
            "grid_area": null,
            "grid_auto_columns": null,
            "grid_auto_flow": null,
            "grid_auto_rows": null,
            "grid_column": null,
            "grid_gap": null,
            "grid_row": null,
            "grid_template_areas": null,
            "grid_template_columns": null,
            "grid_template_rows": null,
            "height": null,
            "justify_content": null,
            "justify_items": null,
            "left": null,
            "margin": null,
            "max_height": null,
            "max_width": null,
            "min_height": null,
            "min_width": null,
            "object_fit": null,
            "object_position": null,
            "order": null,
            "overflow": null,
            "overflow_x": null,
            "overflow_y": null,
            "padding": null,
            "right": null,
            "top": null,
            "visibility": null,
            "width": null
          }
        },
        "a653d07671c24b7d9a1c5b7d2b4bc349": {
          "model_module": "@jupyter-widgets/controls",
          "model_name": "ProgressStyleModel",
          "model_module_version": "1.5.0",
          "state": {
            "_model_module": "@jupyter-widgets/controls",
            "_model_module_version": "1.5.0",
            "_model_name": "ProgressStyleModel",
            "_view_count": null,
            "_view_module": "@jupyter-widgets/base",
            "_view_module_version": "1.2.0",
            "_view_name": "StyleView",
            "bar_color": null,
            "description_width": ""
          }
        },
        "d053c568453849228a79721f4717ddb0": {
          "model_module": "@jupyter-widgets/base",
          "model_name": "LayoutModel",
          "model_module_version": "1.2.0",
          "state": {
            "_model_module": "@jupyter-widgets/base",
            "_model_module_version": "1.2.0",
            "_model_name": "LayoutModel",
            "_view_count": null,
            "_view_module": "@jupyter-widgets/base",
            "_view_module_version": "1.2.0",
            "_view_name": "LayoutView",
            "align_content": null,
            "align_items": null,
            "align_self": null,
            "border": null,
            "bottom": null,
            "display": null,
            "flex": null,
            "flex_flow": null,
            "grid_area": null,
            "grid_auto_columns": null,
            "grid_auto_flow": null,
            "grid_auto_rows": null,
            "grid_column": null,
            "grid_gap": null,
            "grid_row": null,
            "grid_template_areas": null,
            "grid_template_columns": null,
            "grid_template_rows": null,
            "height": null,
            "justify_content": null,
            "justify_items": null,
            "left": null,
            "margin": null,
            "max_height": null,
            "max_width": null,
            "min_height": null,
            "min_width": null,
            "object_fit": null,
            "object_position": null,
            "order": null,
            "overflow": null,
            "overflow_x": null,
            "overflow_y": null,
            "padding": null,
            "right": null,
            "top": null,
            "visibility": null,
            "width": null
          }
        },
        "6d73a6fd4b2049a283970f7c2e666918": {
          "model_module": "@jupyter-widgets/controls",
          "model_name": "DescriptionStyleModel",
          "model_module_version": "1.5.0",
          "state": {
            "_model_module": "@jupyter-widgets/controls",
            "_model_module_version": "1.5.0",
            "_model_name": "DescriptionStyleModel",
            "_view_count": null,
            "_view_module": "@jupyter-widgets/base",
            "_view_module_version": "1.2.0",
            "_view_name": "StyleView",
            "description_width": ""
          }
        },
        "88fed5200306474bb3688288d96dc03e": {
          "model_module": "@jupyter-widgets/controls",
          "model_name": "HBoxModel",
          "model_module_version": "1.5.0",
          "state": {
            "_dom_classes": [],
            "_model_module": "@jupyter-widgets/controls",
            "_model_module_version": "1.5.0",
            "_model_name": "HBoxModel",
            "_view_count": null,
            "_view_module": "@jupyter-widgets/controls",
            "_view_module_version": "1.5.0",
            "_view_name": "HBoxView",
            "box_style": "",
            "children": [
              "IPY_MODEL_554642b1f8eb4eb4b193767f1f2e0d3c",
              "IPY_MODEL_54b189983f0f421eaa34c3a60efddbca",
              "IPY_MODEL_d71b9d39fe0240b6939bb8feeb1cb2ac"
            ],
            "layout": "IPY_MODEL_6703635e1f5849e6b4faec44a63c3f1e"
          }
        },
        "554642b1f8eb4eb4b193767f1f2e0d3c": {
          "model_module": "@jupyter-widgets/controls",
          "model_name": "HTMLModel",
          "model_module_version": "1.5.0",
          "state": {
            "_dom_classes": [],
            "_model_module": "@jupyter-widgets/controls",
            "_model_module_version": "1.5.0",
            "_model_name": "HTMLModel",
            "_view_count": null,
            "_view_module": "@jupyter-widgets/controls",
            "_view_module_version": "1.5.0",
            "_view_name": "HTMLView",
            "description": "",
            "description_tooltip": null,
            "layout": "IPY_MODEL_0ecee0e31f374ac78fb4e938876331ed",
            "placeholder": "​",
            "style": "IPY_MODEL_95e202dd57074a8d982ca36075958702",
            "value": "100%"
          }
        },
        "54b189983f0f421eaa34c3a60efddbca": {
          "model_module": "@jupyter-widgets/controls",
          "model_name": "FloatProgressModel",
          "model_module_version": "1.5.0",
          "state": {
            "_dom_classes": [],
            "_model_module": "@jupyter-widgets/controls",
            "_model_module_version": "1.5.0",
            "_model_name": "FloatProgressModel",
            "_view_count": null,
            "_view_module": "@jupyter-widgets/controls",
            "_view_module_version": "1.5.0",
            "_view_name": "ProgressView",
            "bar_style": "",
            "description": "",
            "description_tooltip": null,
            "layout": "IPY_MODEL_5d0dd60ce6cc45c19262a270451494ef",
            "max": 4,
            "min": 0,
            "orientation": "horizontal",
            "style": "IPY_MODEL_2e95c26b6b064198a2cb09cc28804174",
            "value": 4
          }
        },
        "d71b9d39fe0240b6939bb8feeb1cb2ac": {
          "model_module": "@jupyter-widgets/controls",
          "model_name": "HTMLModel",
          "model_module_version": "1.5.0",
          "state": {
            "_dom_classes": [],
            "_model_module": "@jupyter-widgets/controls",
            "_model_module_version": "1.5.0",
            "_model_name": "HTMLModel",
            "_view_count": null,
            "_view_module": "@jupyter-widgets/controls",
            "_view_module_version": "1.5.0",
            "_view_name": "HTMLView",
            "description": "",
            "description_tooltip": null,
            "layout": "IPY_MODEL_bfb773062eb74e918f481371ceedc431",
            "placeholder": "​",
            "style": "IPY_MODEL_4d70b59ec6a34d4ea6f2bdad304dd24c",
            "value": " 4.00/4.00 [00:00&lt;00:00, 8.32batch/s, loss=0.349, pr_auc=0.718, precision=0.644, recall=0.623]"
          }
        },
        "6703635e1f5849e6b4faec44a63c3f1e": {
          "model_module": "@jupyter-widgets/base",
          "model_name": "LayoutModel",
          "model_module_version": "1.2.0",
          "state": {
            "_model_module": "@jupyter-widgets/base",
            "_model_module_version": "1.2.0",
            "_model_name": "LayoutModel",
            "_view_count": null,
            "_view_module": "@jupyter-widgets/base",
            "_view_module_version": "1.2.0",
            "_view_name": "LayoutView",
            "align_content": null,
            "align_items": null,
            "align_self": null,
            "border": null,
            "bottom": null,
            "display": null,
            "flex": null,
            "flex_flow": null,
            "grid_area": null,
            "grid_auto_columns": null,
            "grid_auto_flow": null,
            "grid_auto_rows": null,
            "grid_column": null,
            "grid_gap": null,
            "grid_row": null,
            "grid_template_areas": null,
            "grid_template_columns": null,
            "grid_template_rows": null,
            "height": null,
            "justify_content": null,
            "justify_items": null,
            "left": null,
            "margin": null,
            "max_height": null,
            "max_width": null,
            "min_height": null,
            "min_width": null,
            "object_fit": null,
            "object_position": null,
            "order": null,
            "overflow": null,
            "overflow_x": null,
            "overflow_y": null,
            "padding": null,
            "right": null,
            "top": null,
            "visibility": "hidden",
            "width": null
          }
        },
        "0ecee0e31f374ac78fb4e938876331ed": {
          "model_module": "@jupyter-widgets/base",
          "model_name": "LayoutModel",
          "model_module_version": "1.2.0",
          "state": {
            "_model_module": "@jupyter-widgets/base",
            "_model_module_version": "1.2.0",
            "_model_name": "LayoutModel",
            "_view_count": null,
            "_view_module": "@jupyter-widgets/base",
            "_view_module_version": "1.2.0",
            "_view_name": "LayoutView",
            "align_content": null,
            "align_items": null,
            "align_self": null,
            "border": null,
            "bottom": null,
            "display": null,
            "flex": null,
            "flex_flow": null,
            "grid_area": null,
            "grid_auto_columns": null,
            "grid_auto_flow": null,
            "grid_auto_rows": null,
            "grid_column": null,
            "grid_gap": null,
            "grid_row": null,
            "grid_template_areas": null,
            "grid_template_columns": null,
            "grid_template_rows": null,
            "height": null,
            "justify_content": null,
            "justify_items": null,
            "left": null,
            "margin": null,
            "max_height": null,
            "max_width": null,
            "min_height": null,
            "min_width": null,
            "object_fit": null,
            "object_position": null,
            "order": null,
            "overflow": null,
            "overflow_x": null,
            "overflow_y": null,
            "padding": null,
            "right": null,
            "top": null,
            "visibility": null,
            "width": null
          }
        },
        "95e202dd57074a8d982ca36075958702": {
          "model_module": "@jupyter-widgets/controls",
          "model_name": "DescriptionStyleModel",
          "model_module_version": "1.5.0",
          "state": {
            "_model_module": "@jupyter-widgets/controls",
            "_model_module_version": "1.5.0",
            "_model_name": "DescriptionStyleModel",
            "_view_count": null,
            "_view_module": "@jupyter-widgets/base",
            "_view_module_version": "1.2.0",
            "_view_name": "StyleView",
            "description_width": ""
          }
        },
        "5d0dd60ce6cc45c19262a270451494ef": {
          "model_module": "@jupyter-widgets/base",
          "model_name": "LayoutModel",
          "model_module_version": "1.2.0",
          "state": {
            "_model_module": "@jupyter-widgets/base",
            "_model_module_version": "1.2.0",
            "_model_name": "LayoutModel",
            "_view_count": null,
            "_view_module": "@jupyter-widgets/base",
            "_view_module_version": "1.2.0",
            "_view_name": "LayoutView",
            "align_content": null,
            "align_items": null,
            "align_self": null,
            "border": null,
            "bottom": null,
            "display": null,
            "flex": null,
            "flex_flow": null,
            "grid_area": null,
            "grid_auto_columns": null,
            "grid_auto_flow": null,
            "grid_auto_rows": null,
            "grid_column": null,
            "grid_gap": null,
            "grid_row": null,
            "grid_template_areas": null,
            "grid_template_columns": null,
            "grid_template_rows": null,
            "height": null,
            "justify_content": null,
            "justify_items": null,
            "left": null,
            "margin": null,
            "max_height": null,
            "max_width": null,
            "min_height": null,
            "min_width": null,
            "object_fit": null,
            "object_position": null,
            "order": null,
            "overflow": null,
            "overflow_x": null,
            "overflow_y": null,
            "padding": null,
            "right": null,
            "top": null,
            "visibility": null,
            "width": null
          }
        },
        "2e95c26b6b064198a2cb09cc28804174": {
          "model_module": "@jupyter-widgets/controls",
          "model_name": "ProgressStyleModel",
          "model_module_version": "1.5.0",
          "state": {
            "_model_module": "@jupyter-widgets/controls",
            "_model_module_version": "1.5.0",
            "_model_name": "ProgressStyleModel",
            "_view_count": null,
            "_view_module": "@jupyter-widgets/base",
            "_view_module_version": "1.2.0",
            "_view_name": "StyleView",
            "bar_color": null,
            "description_width": ""
          }
        },
        "bfb773062eb74e918f481371ceedc431": {
          "model_module": "@jupyter-widgets/base",
          "model_name": "LayoutModel",
          "model_module_version": "1.2.0",
          "state": {
            "_model_module": "@jupyter-widgets/base",
            "_model_module_version": "1.2.0",
            "_model_name": "LayoutModel",
            "_view_count": null,
            "_view_module": "@jupyter-widgets/base",
            "_view_module_version": "1.2.0",
            "_view_name": "LayoutView",
            "align_content": null,
            "align_items": null,
            "align_self": null,
            "border": null,
            "bottom": null,
            "display": null,
            "flex": null,
            "flex_flow": null,
            "grid_area": null,
            "grid_auto_columns": null,
            "grid_auto_flow": null,
            "grid_auto_rows": null,
            "grid_column": null,
            "grid_gap": null,
            "grid_row": null,
            "grid_template_areas": null,
            "grid_template_columns": null,
            "grid_template_rows": null,
            "height": null,
            "justify_content": null,
            "justify_items": null,
            "left": null,
            "margin": null,
            "max_height": null,
            "max_width": null,
            "min_height": null,
            "min_width": null,
            "object_fit": null,
            "object_position": null,
            "order": null,
            "overflow": null,
            "overflow_x": null,
            "overflow_y": null,
            "padding": null,
            "right": null,
            "top": null,
            "visibility": null,
            "width": null
          }
        },
        "4d70b59ec6a34d4ea6f2bdad304dd24c": {
          "model_module": "@jupyter-widgets/controls",
          "model_name": "DescriptionStyleModel",
          "model_module_version": "1.5.0",
          "state": {
            "_model_module": "@jupyter-widgets/controls",
            "_model_module_version": "1.5.0",
            "_model_name": "DescriptionStyleModel",
            "_view_count": null,
            "_view_module": "@jupyter-widgets/base",
            "_view_module_version": "1.2.0",
            "_view_name": "StyleView",
            "description_width": ""
          }
        }
      }
    }
  },
  "cells": [
    {
      "cell_type": "code",
      "source": [
        "pip install praat-textgrids"
      ],
      "metadata": {
        "colab": {
          "base_uri": "https://localhost:8080/"
        },
        "id": "hwXsbSR7JINQ",
        "outputId": "7baec67e-ffed-4de2-9efd-ebfaf6ce9117"
      },
      "execution_count": 1,
      "outputs": [
        {
          "output_type": "stream",
          "name": "stdout",
          "text": [
            "Collecting praat-textgrids\n",
            "  Downloading praat_textgrids-1.4.0-py3-none-any.whl (25 kB)\n",
            "Installing collected packages: praat-textgrids\n",
            "Successfully installed praat-textgrids-1.4.0\n"
          ]
        }
      ]
    },
    {
      "cell_type": "code",
      "source": [
        "from google.colab import drive\n",
        "drive.mount(\"/content/gdrive\")"
      ],
      "metadata": {
        "colab": {
          "base_uri": "https://localhost:8080/"
        },
        "id": "6gp1haMwMuER",
        "outputId": "b69f9635-dd9f-468e-82c1-2f5523b5828a"
      },
      "execution_count": 2,
      "outputs": [
        {
          "output_type": "stream",
          "name": "stdout",
          "text": [
            "Mounted at /content/gdrive\n"
          ]
        }
      ]
    },
    {
      "cell_type": "code",
      "source": [
        "import math\n",
        "import os.path\n",
        "import os\n",
        "import librosa\n",
        "import pandas as pd\n",
        "import numpy as np\n",
        "\n",
        "from matplotlib import pyplot as plt\n",
        "import librosa.display\n",
        "import sys, re\n",
        "from tqdm import tqdm\n"
      ],
      "metadata": {
        "id": "m7dgAjItG0jG"
      },
      "execution_count": 3,
      "outputs": []
    },
    {
      "cell_type": "code",
      "source": [
        "#-------------------------------------------------\n",
        "# Text file input / output\n",
        "\n",
        "def inputtextlines(filename):\n",
        "    handle = open(filename,'r')\n",
        "    linelist = handle.readlines()\n",
        "    handle.close()\n",
        "    return linelist\n",
        "\n",
        "def outputtext(filename, text):\n",
        "    handle = open(filename,'w')\n",
        "    handle.write(text)\n",
        "    handle.close()\n",
        "\n",
        "#-------------------------------------------------\n",
        "# Conversion routines\n",
        "\n",
        "\n",
        "def converttextgrid2csv(textgridlines,textgridname):\n",
        "\n",
        "    # csvtext = '# TextGrid to CSV (D. Gibbon, 2008-11-23)\\n# Open the file with OpenOffice.org Calc or MS-Excel.\\nFileName\\tTierType\\tTierName\\tLabel\\tStart\\tEnd\\tDuration\\n'\n",
        "    csvtext = ''\n",
        "    newtier = False\n",
        "    start = []\n",
        "    end = []\n",
        "    durr = []\n",
        "    file = []\n",
        "    for line in textgridlines[9:]:\n",
        "        line = re.sub('\\n','',line)\n",
        "        line = re.sub('^ *','',line)\n",
        "        linepair = line.split(' = ')\n",
        "        if len(linepair) == 2:\n",
        "            # if linepair[0] == 'class':\n",
        "            #     classname = linepair[1]\n",
        "            # if linepair[0] == 'name':\n",
        "            #     tiername = linepair[1]\n",
        "            if linepair[0] == 'xmin':\n",
        "                xmin = linepair[1]\n",
        "            if linepair[0] == 'xmax':\n",
        "                xmax = linepair[1]\n",
        "            if linepair[0] == 'text':\n",
        "                text = linepair[1]\n",
        "                if (text==\"\\\"1\\\"\" + \" \"):\n",
        "                  start.append(float(xmin))\n",
        "                  end.append(float(xmax))\n",
        "                  diff = str(float(xmax)-float(xmin))\n",
        "                  durr.append(float(diff))\n",
        "                  file.append(textgridname)\n",
        "                # csvtext += text + '\\t' + xmin + '\\t' + xmax + '\\t' + diff + '\\n'\n",
        "    return start,end,durr,file"
      ],
      "metadata": {
        "id": "-Y6vPxmWP_8z"
      },
      "execution_count": 40,
      "outputs": []
    },
    {
      "cell_type": "code",
      "source": [
        "def load_annotations(path):\n",
        "  textgridname = path\n",
        "  textgrid = inputtextlines(textgridname)\n",
        "  start,end,durr,file = converttextgrid2csv(textgrid,textgridname)\n",
        "  df = pd.DataFrame()\n",
        "  df['start'] = start\n",
        "  df['end'] = end\n",
        "  df['duration'] = durr\n",
        "  df['file'] = file\n",
        "  df['event'] = 'yes'\n",
        "  return df\n",
        "\n",
        "annotations = load_annotations(\"/content/gdrive/MyDrive/EE798/Data/Annotation/Female/PTDB-TUG/mic_F01_sa2.TextGrid\")\n",
        "annotations\n"
      ],
      "metadata": {
        "colab": {
          "base_uri": "https://localhost:8080/",
          "height": 143
        },
        "id": "-5Qosl2YQF4e",
        "outputId": "de7cb2f8-d9ae-40f9-ecd4-d1153983fb93"
      },
      "execution_count": 41,
      "outputs": [
        {
          "output_type": "execute_result",
          "data": {
            "text/plain": [
              "   start    end  duration                                               file  \\\n",
              "0  3.300  3.980     0.680  /content/gdrive/MyDrive/EE798/Data/Annotation/...   \n",
              "1  4.124  5.396     1.272  /content/gdrive/MyDrive/EE798/Data/Annotation/...   \n",
              "2  5.500  5.740     0.240  /content/gdrive/MyDrive/EE798/Data/Annotation/...   \n",
              "\n",
              "  event  \n",
              "0   yes  \n",
              "1   yes  \n",
              "2   yes  "
            ],
            "text/html": [
              "\n",
              "  <div id=\"df-311ee8f1-fdb4-4d7c-821c-bec19229f7c0\" class=\"colab-df-container\">\n",
              "    <div>\n",
              "<style scoped>\n",
              "    .dataframe tbody tr th:only-of-type {\n",
              "        vertical-align: middle;\n",
              "    }\n",
              "\n",
              "    .dataframe tbody tr th {\n",
              "        vertical-align: top;\n",
              "    }\n",
              "\n",
              "    .dataframe thead th {\n",
              "        text-align: right;\n",
              "    }\n",
              "</style>\n",
              "<table border=\"1\" class=\"dataframe\">\n",
              "  <thead>\n",
              "    <tr style=\"text-align: right;\">\n",
              "      <th></th>\n",
              "      <th>start</th>\n",
              "      <th>end</th>\n",
              "      <th>duration</th>\n",
              "      <th>file</th>\n",
              "      <th>event</th>\n",
              "    </tr>\n",
              "  </thead>\n",
              "  <tbody>\n",
              "    <tr>\n",
              "      <th>0</th>\n",
              "      <td>3.300</td>\n",
              "      <td>3.980</td>\n",
              "      <td>0.680</td>\n",
              "      <td>/content/gdrive/MyDrive/EE798/Data/Annotation/...</td>\n",
              "      <td>yes</td>\n",
              "    </tr>\n",
              "    <tr>\n",
              "      <th>1</th>\n",
              "      <td>4.124</td>\n",
              "      <td>5.396</td>\n",
              "      <td>1.272</td>\n",
              "      <td>/content/gdrive/MyDrive/EE798/Data/Annotation/...</td>\n",
              "      <td>yes</td>\n",
              "    </tr>\n",
              "    <tr>\n",
              "      <th>2</th>\n",
              "      <td>5.500</td>\n",
              "      <td>5.740</td>\n",
              "      <td>0.240</td>\n",
              "      <td>/content/gdrive/MyDrive/EE798/Data/Annotation/...</td>\n",
              "      <td>yes</td>\n",
              "    </tr>\n",
              "  </tbody>\n",
              "</table>\n",
              "</div>\n",
              "    <div class=\"colab-df-buttons\">\n",
              "\n",
              "  <div class=\"colab-df-container\">\n",
              "    <button class=\"colab-df-convert\" onclick=\"convertToInteractive('df-311ee8f1-fdb4-4d7c-821c-bec19229f7c0')\"\n",
              "            title=\"Convert this dataframe to an interactive table.\"\n",
              "            style=\"display:none;\">\n",
              "\n",
              "  <svg xmlns=\"http://www.w3.org/2000/svg\" height=\"24px\" viewBox=\"0 -960 960 960\">\n",
              "    <path d=\"M120-120v-720h720v720H120Zm60-500h600v-160H180v160Zm220 220h160v-160H400v160Zm0 220h160v-160H400v160ZM180-400h160v-160H180v160Zm440 0h160v-160H620v160ZM180-180h160v-160H180v160Zm440 0h160v-160H620v160Z\"/>\n",
              "  </svg>\n",
              "    </button>\n",
              "\n",
              "  <style>\n",
              "    .colab-df-container {\n",
              "      display:flex;\n",
              "      gap: 12px;\n",
              "    }\n",
              "\n",
              "    .colab-df-convert {\n",
              "      background-color: #E8F0FE;\n",
              "      border: none;\n",
              "      border-radius: 50%;\n",
              "      cursor: pointer;\n",
              "      display: none;\n",
              "      fill: #1967D2;\n",
              "      height: 32px;\n",
              "      padding: 0 0 0 0;\n",
              "      width: 32px;\n",
              "    }\n",
              "\n",
              "    .colab-df-convert:hover {\n",
              "      background-color: #E2EBFA;\n",
              "      box-shadow: 0px 1px 2px rgba(60, 64, 67, 0.3), 0px 1px 3px 1px rgba(60, 64, 67, 0.15);\n",
              "      fill: #174EA6;\n",
              "    }\n",
              "\n",
              "    .colab-df-buttons div {\n",
              "      margin-bottom: 4px;\n",
              "    }\n",
              "\n",
              "    [theme=dark] .colab-df-convert {\n",
              "      background-color: #3B4455;\n",
              "      fill: #D2E3FC;\n",
              "    }\n",
              "\n",
              "    [theme=dark] .colab-df-convert:hover {\n",
              "      background-color: #434B5C;\n",
              "      box-shadow: 0px 1px 3px 1px rgba(0, 0, 0, 0.15);\n",
              "      filter: drop-shadow(0px 1px 2px rgba(0, 0, 0, 0.3));\n",
              "      fill: #FFFFFF;\n",
              "    }\n",
              "  </style>\n",
              "\n",
              "    <script>\n",
              "      const buttonEl =\n",
              "        document.querySelector('#df-311ee8f1-fdb4-4d7c-821c-bec19229f7c0 button.colab-df-convert');\n",
              "      buttonEl.style.display =\n",
              "        google.colab.kernel.accessAllowed ? 'block' : 'none';\n",
              "\n",
              "      async function convertToInteractive(key) {\n",
              "        const element = document.querySelector('#df-311ee8f1-fdb4-4d7c-821c-bec19229f7c0');\n",
              "        const dataTable =\n",
              "          await google.colab.kernel.invokeFunction('convertToInteractive',\n",
              "                                                    [key], {});\n",
              "        if (!dataTable) return;\n",
              "\n",
              "        const docLinkHtml = 'Like what you see? Visit the ' +\n",
              "          '<a target=\"_blank\" href=https://colab.research.google.com/notebooks/data_table.ipynb>data table notebook</a>'\n",
              "          + ' to learn more about interactive tables.';\n",
              "        element.innerHTML = '';\n",
              "        dataTable['output_type'] = 'display_data';\n",
              "        await google.colab.output.renderOutput(dataTable, element);\n",
              "        const docLink = document.createElement('div');\n",
              "        docLink.innerHTML = docLinkHtml;\n",
              "        element.appendChild(docLink);\n",
              "      }\n",
              "    </script>\n",
              "  </div>\n",
              "\n",
              "\n",
              "<div id=\"df-ae885087-ff27-4241-a560-439820a89a7d\">\n",
              "  <button class=\"colab-df-quickchart\" onclick=\"quickchart('df-ae885087-ff27-4241-a560-439820a89a7d')\"\n",
              "            title=\"Suggest charts.\"\n",
              "            style=\"display:none;\">\n",
              "\n",
              "<svg xmlns=\"http://www.w3.org/2000/svg\" height=\"24px\"viewBox=\"0 0 24 24\"\n",
              "     width=\"24px\">\n",
              "    <g>\n",
              "        <path d=\"M19 3H5c-1.1 0-2 .9-2 2v14c0 1.1.9 2 2 2h14c1.1 0 2-.9 2-2V5c0-1.1-.9-2-2-2zM9 17H7v-7h2v7zm4 0h-2V7h2v10zm4 0h-2v-4h2v4z\"/>\n",
              "    </g>\n",
              "</svg>\n",
              "  </button>\n",
              "\n",
              "<style>\n",
              "  .colab-df-quickchart {\n",
              "      --bg-color: #E8F0FE;\n",
              "      --fill-color: #1967D2;\n",
              "      --hover-bg-color: #E2EBFA;\n",
              "      --hover-fill-color: #174EA6;\n",
              "      --disabled-fill-color: #AAA;\n",
              "      --disabled-bg-color: #DDD;\n",
              "  }\n",
              "\n",
              "  [theme=dark] .colab-df-quickchart {\n",
              "      --bg-color: #3B4455;\n",
              "      --fill-color: #D2E3FC;\n",
              "      --hover-bg-color: #434B5C;\n",
              "      --hover-fill-color: #FFFFFF;\n",
              "      --disabled-bg-color: #3B4455;\n",
              "      --disabled-fill-color: #666;\n",
              "  }\n",
              "\n",
              "  .colab-df-quickchart {\n",
              "    background-color: var(--bg-color);\n",
              "    border: none;\n",
              "    border-radius: 50%;\n",
              "    cursor: pointer;\n",
              "    display: none;\n",
              "    fill: var(--fill-color);\n",
              "    height: 32px;\n",
              "    padding: 0;\n",
              "    width: 32px;\n",
              "  }\n",
              "\n",
              "  .colab-df-quickchart:hover {\n",
              "    background-color: var(--hover-bg-color);\n",
              "    box-shadow: 0 1px 2px rgba(60, 64, 67, 0.3), 0 1px 3px 1px rgba(60, 64, 67, 0.15);\n",
              "    fill: var(--button-hover-fill-color);\n",
              "  }\n",
              "\n",
              "  .colab-df-quickchart-complete:disabled,\n",
              "  .colab-df-quickchart-complete:disabled:hover {\n",
              "    background-color: var(--disabled-bg-color);\n",
              "    fill: var(--disabled-fill-color);\n",
              "    box-shadow: none;\n",
              "  }\n",
              "\n",
              "  .colab-df-spinner {\n",
              "    border: 2px solid var(--fill-color);\n",
              "    border-color: transparent;\n",
              "    border-bottom-color: var(--fill-color);\n",
              "    animation:\n",
              "      spin 1s steps(1) infinite;\n",
              "  }\n",
              "\n",
              "  @keyframes spin {\n",
              "    0% {\n",
              "      border-color: transparent;\n",
              "      border-bottom-color: var(--fill-color);\n",
              "      border-left-color: var(--fill-color);\n",
              "    }\n",
              "    20% {\n",
              "      border-color: transparent;\n",
              "      border-left-color: var(--fill-color);\n",
              "      border-top-color: var(--fill-color);\n",
              "    }\n",
              "    30% {\n",
              "      border-color: transparent;\n",
              "      border-left-color: var(--fill-color);\n",
              "      border-top-color: var(--fill-color);\n",
              "      border-right-color: var(--fill-color);\n",
              "    }\n",
              "    40% {\n",
              "      border-color: transparent;\n",
              "      border-right-color: var(--fill-color);\n",
              "      border-top-color: var(--fill-color);\n",
              "    }\n",
              "    60% {\n",
              "      border-color: transparent;\n",
              "      border-right-color: var(--fill-color);\n",
              "    }\n",
              "    80% {\n",
              "      border-color: transparent;\n",
              "      border-right-color: var(--fill-color);\n",
              "      border-bottom-color: var(--fill-color);\n",
              "    }\n",
              "    90% {\n",
              "      border-color: transparent;\n",
              "      border-bottom-color: var(--fill-color);\n",
              "    }\n",
              "  }\n",
              "</style>\n",
              "\n",
              "  <script>\n",
              "    async function quickchart(key) {\n",
              "      const quickchartButtonEl =\n",
              "        document.querySelector('#' + key + ' button');\n",
              "      quickchartButtonEl.disabled = true;  // To prevent multiple clicks.\n",
              "      quickchartButtonEl.classList.add('colab-df-spinner');\n",
              "      try {\n",
              "        const charts = await google.colab.kernel.invokeFunction(\n",
              "            'suggestCharts', [key], {});\n",
              "      } catch (error) {\n",
              "        console.error('Error during call to suggestCharts:', error);\n",
              "      }\n",
              "      quickchartButtonEl.classList.remove('colab-df-spinner');\n",
              "      quickchartButtonEl.classList.add('colab-df-quickchart-complete');\n",
              "    }\n",
              "    (() => {\n",
              "      let quickchartButtonEl =\n",
              "        document.querySelector('#df-ae885087-ff27-4241-a560-439820a89a7d button');\n",
              "      quickchartButtonEl.style.display =\n",
              "        google.colab.kernel.accessAllowed ? 'block' : 'none';\n",
              "    })();\n",
              "  </script>\n",
              "</div>\n",
              "    </div>\n",
              "  </div>\n"
            ]
          },
          "metadata": {},
          "execution_count": 41
        }
      ]
    },
    {
      "cell_type": "code",
      "source": [
        "annotations.event.value_counts()"
      ],
      "metadata": {
        "colab": {
          "base_uri": "https://localhost:8080/"
        },
        "id": "SlwRHAUbdINX",
        "outputId": "bad1e14b-d34a-4345-d270-6a73263e3721"
      },
      "execution_count": 15,
      "outputs": [
        {
          "output_type": "execute_result",
          "data": {
            "text/plain": [
              "yes    3\n",
              "Name: event, dtype: int64"
            ]
          },
          "metadata": {},
          "execution_count": 15
        }
      ]
    },
    {
      "cell_type": "code",
      "source": [
        "# input\n",
        "audio_path = '/content/gdrive/MyDrive/EE798/Data/Audio/Female/PTDB-TUG/mic_F01_sa2.wav'\n",
        "annotations_path = '/content/gdrive/MyDrive/EE798/Data/Annotation/Female/PTDB-TUG/mic_F01_sa2.TextGrid'\n",
        "\n",
        "# samplerate to process at\n",
        "samplerate = 16000\n",
        "\n",
        "# temporal resolution, both for spectrogram and prediction output\n",
        "time_resolution = 0.30\n",
        "\n",
        "# how much data to use for\n",
        "val_size = 0.15\n",
        "test_size = 0.15\n"
      ],
      "metadata": {
        "id": "oeSknBd7G2tn"
      },
      "execution_count": 61,
      "outputs": []
    },
    {
      "cell_type": "code",
      "source": [
        "def next_power_of_2(x):\n",
        "    return 2**(math.ceil(math.log(x, 2)))\n",
        "\n",
        "hop_length = int(time_resolution*samplerate)\n",
        "n_fft = next_power_of_2(hop_length)\n",
        "\n",
        "print(hop_length, n_fft)"
      ],
      "metadata": {
        "colab": {
          "base_uri": "https://localhost:8080/"
        },
        "id": "puxiV8wvJKdP",
        "outputId": "69055092-a51b-49be-a406-01e524ae9aae"
      },
      "execution_count": 62,
      "outputs": [
        {
          "output_type": "stream",
          "name": "stdout",
          "text": [
            "4800 8192\n"
          ]
        }
      ]
    },
    {
      "cell_type": "code",
      "source": [
        "def load_spectrogram(path, sr=16000, n_mels=32, n_fft=1024, hop_length=512):\n",
        "    y, sr = librosa.load(path, sr=sr)\n",
        "\n",
        "    S = librosa.feature.melspectrogram(y=y, sr=sr, n_fft=n_fft, n_mels=n_mels, hop_length=hop_length)\n",
        "    db = librosa.power_to_db(S, ref=0.0)\n",
        "\n",
        "    return db\n",
        "\n",
        "\n",
        "spec = load_spectrogram(audio_path, hop_length=hop_length, n_fft=n_fft)\n",
        "spec.shape"
      ],
      "metadata": {
        "colab": {
          "base_uri": "https://localhost:8080/"
        },
        "id": "EcN8JYNgdZO4",
        "outputId": "2ead9442-79d9-4910-fe25-109fef55084d"
      },
      "execution_count": 63,
      "outputs": [
        {
          "output_type": "execute_result",
          "data": {
            "text/plain": [
              "(32, 25)"
            ]
          },
          "metadata": {},
          "execution_count": 63
        }
      ]
    },
    {
      "cell_type": "code",
      "source": [
        "def make_continious_labels(events, length, time_resolution):\n",
        "    \"\"\"\n",
        "    Create a continious vector for the event labels that matches the time format of our spectrogram\n",
        "\n",
        "    Assumes that no annotated event means nothing occurred.\n",
        "    \"\"\"\n",
        "\n",
        "    freq = pd.Timedelta(seconds=time_resolution)\n",
        "\n",
        "    # Create empty covering entire spectrogram\n",
        "    duration = length * time_resolution\n",
        "    ix = pd.timedelta_range(start=pd.Timedelta(seconds=0.0),\n",
        "                    end=pd.Timedelta(seconds=duration),\n",
        "                    freq=freq,\n",
        "                    closed='left',\n",
        "    )\n",
        "    ix.name = 'time'\n",
        "    df = pd.DataFrame({}, index=ix)\n",
        "    assert len(df) == length, (len(df), length)\n",
        "    df[\"event\"] = 0\n",
        "\n",
        "    # fill in event data\n",
        "    for start, end in zip(events['start'], events['end']):\n",
        "        # print(start)\n",
        "        s = pd.Timedelta(start, unit='s')\n",
        "        e = pd.Timedelta(end, unit='s')\n",
        "\n",
        "        # XXX: focus just on onsets\n",
        "        e = s + pd.Timedelta(0.300, unit='s')\n",
        "\n",
        "        # print(s,e)\n",
        "        match = df.loc[s:e]\n",
        "        # print(match)\n",
        "        df.loc[s:e, \"event\"] = 1\n",
        "\n",
        "    return df\n",
        "\n",
        "l = make_continious_labels(annotations, spec.shape[1], time_resolution)\n",
        "l.event.value_counts()"
      ],
      "metadata": {
        "colab": {
          "base_uri": "https://localhost:8080/"
        },
        "id": "g8LwYK2nitLT",
        "outputId": "690e559d-0e71-4230-f83f-d3385d20bde4"
      },
      "execution_count": 64,
      "outputs": [
        {
          "output_type": "execute_result",
          "data": {
            "text/plain": [
              "0    23\n",
              "1     2\n",
              "Name: event, dtype: int64"
            ]
          },
          "metadata": {},
          "execution_count": 64
        }
      ]
    },
    {
      "cell_type": "code",
      "source": [
        "l"
      ],
      "metadata": {
        "id": "2nB7ozBs50vt"
      },
      "execution_count": null,
      "outputs": []
    },
    {
      "cell_type": "code",
      "source": [
        "window_duration = 0.901\n",
        "window_length = int(window_duration / time_resolution)\n",
        "window_length"
      ],
      "metadata": {
        "colab": {
          "base_uri": "https://localhost:8080/"
        },
        "id": "XHtautn3G20i",
        "outputId": "d22a8d76-e712-40d0-cc05-2f9824459255"
      },
      "execution_count": 65,
      "outputs": [
        {
          "output_type": "execute_result",
          "data": {
            "text/plain": [
              "3"
            ]
          },
          "metadata": {},
          "execution_count": 65
        }
      ]
    },
    {
      "cell_type": "code",
      "source": [
        "# extract overlapped time-windows for spectrograms and labels\n",
        "def compute_windows(arr, frames, pad_value=0.0, overlap=0.5, step=None):\n",
        "    if step is None:\n",
        "        step = int(frames * (1-overlap))\n",
        "\n",
        "    windows = []\n",
        "    index = []\n",
        "\n",
        "    width, length = arr.shape\n",
        "\n",
        "    for start_idx in range(0, length, step):\n",
        "        end_idx = min(start_idx + frames, length)\n",
        "\n",
        "        # create emmpty\n",
        "        win = np.full((width, frames), pad_value, dtype=float)\n",
        "        # fill with data\n",
        "        win[:, 0:end_idx-start_idx] = arr[:,start_idx:end_idx]\n",
        "\n",
        "        windows.append(win)\n",
        "        index.append(start_idx)\n",
        "\n",
        "    s = pd.Series(windows, index=index)\n",
        "    s.index.name = 'start_index'\n",
        "    return s\n",
        "\n",
        "# windows = pd.DataFrame({\n",
        "#     'spectrogram': compute_windows(spec, frames=window_length, step=2),\n",
        "#     'labels': compute_windows(l.values.T, frames=window_length, step=2),\n",
        "#     'file': audio_path,\n",
        "# })\n",
        "# windows['event'] = windows.labels.apply(lambda labels:  np.any(labels, axis=-1)).astype(int)\n",
        "# windows[windows.event == True].head(5)"
      ],
      "metadata": {
        "id": "XmItWUSnG23m"
      },
      "execution_count": 47,
      "outputs": []
    },
    {
      "cell_type": "code",
      "source": [
        "i = 0\n",
        "folder_path = '/content/gdrive/MyDrive/EE798/Data/Annotation/Female/PTDB-TUG'\n",
        "folder_path2 = '/content/gdrive/MyDrive/EE798/Data/Audio/Female/PTDB-TUG'\n",
        "\n",
        "# List files in the folder\n",
        "files = os.listdir(folder_path)\n",
        "\n",
        "# Process the files\n",
        "for file_name in files:\n",
        "\n",
        "  audio_path = folder_path2 + \"/\" + file_name.split(\".\")[0] + \".wav\"\n",
        "  annotations_path = folder_path + \"/\" + file_name\n",
        "\n",
        "  # if (i==0):\n",
        "  #   annotations = load_annotations(annotations_path)\n",
        "  # else:\n",
        "  #   annotation = load_annotations(annotations_path)\n",
        "  #   annotations = annotations.append(annotation, ignore_index = True)\n",
        "  # i = i +1\n",
        "\n",
        "  spec = load_spectrogram(audio_path, hop_length=hop_length, n_fft=n_fft)\n",
        "  l = make_continious_labels(annotations, spec.shape[1], time_resolution)\n",
        "  if (i==0):\n",
        "    windows = pd.DataFrame({\n",
        "        'spectrogram': compute_windows(spec, frames=window_length, step=2),\n",
        "        'labels': compute_windows(l.values.T, frames=window_length, step=2),\n",
        "        'file': audio_path,\n",
        "    })\n",
        "    windows['event'] = windows.labels.apply(lambda labels: np.any(labels, axis=-1)).astype(int)\n",
        "    windows[windows.event == True]\n",
        "    # print(len(windows))\n",
        "  else:\n",
        "    window = pd.DataFrame({\n",
        "        'spectrogram': compute_windows(spec, frames=window_length, step=2),\n",
        "        'labels': compute_windows(l.values.T, frames=window_length, step=2),\n",
        "        'file': audio_path,\n",
        "    })\n",
        "    window['event'] = window.labels.apply(lambda labels: np.any(labels, axis=-1)).astype(int)\n",
        "    window[window.event == True]\n",
        "    windows = windows.append(window, ignore_index = True)\n",
        "    # print(len(window))\n",
        "  i = i + 1"
      ],
      "metadata": {
        "colab": {
          "base_uri": "https://localhost:8080/",
          "height": 366
        },
        "id": "pDjtwWWVqXHV",
        "outputId": "43122a90-0dc1-41a2-e473-32848bad1f38"
      },
      "execution_count": 66,
      "outputs": [
        {
          "output_type": "error",
          "ename": "AssertionError",
          "evalue": "ignored",
          "traceback": [
            "\u001b[0;31m---------------------------------------------------------------------------\u001b[0m",
            "\u001b[0;31mAssertionError\u001b[0m                            Traceback (most recent call last)",
            "\u001b[0;32m<ipython-input-66-f82933a6fe56>\u001b[0m in \u001b[0;36m<cell line: 9>\u001b[0;34m()\u001b[0m\n\u001b[1;32m     20\u001b[0m \u001b[0;34m\u001b[0m\u001b[0m\n\u001b[1;32m     21\u001b[0m   \u001b[0mspec\u001b[0m \u001b[0;34m=\u001b[0m \u001b[0mload_spectrogram\u001b[0m\u001b[0;34m(\u001b[0m\u001b[0maudio_path\u001b[0m\u001b[0;34m,\u001b[0m \u001b[0mhop_length\u001b[0m\u001b[0;34m=\u001b[0m\u001b[0mhop_length\u001b[0m\u001b[0;34m,\u001b[0m \u001b[0mn_fft\u001b[0m\u001b[0;34m=\u001b[0m\u001b[0mn_fft\u001b[0m\u001b[0;34m)\u001b[0m\u001b[0;34m\u001b[0m\u001b[0;34m\u001b[0m\u001b[0m\n\u001b[0;32m---> 22\u001b[0;31m   \u001b[0ml\u001b[0m \u001b[0;34m=\u001b[0m \u001b[0mmake_continious_labels\u001b[0m\u001b[0;34m(\u001b[0m\u001b[0mannotations\u001b[0m\u001b[0;34m,\u001b[0m \u001b[0mspec\u001b[0m\u001b[0;34m.\u001b[0m\u001b[0mshape\u001b[0m\u001b[0;34m[\u001b[0m\u001b[0;36m1\u001b[0m\u001b[0;34m]\u001b[0m\u001b[0;34m,\u001b[0m \u001b[0mtime_resolution\u001b[0m\u001b[0;34m)\u001b[0m\u001b[0;34m\u001b[0m\u001b[0;34m\u001b[0m\u001b[0m\n\u001b[0m\u001b[1;32m     23\u001b[0m   \u001b[0;32mif\u001b[0m \u001b[0;34m(\u001b[0m\u001b[0mi\u001b[0m\u001b[0;34m==\u001b[0m\u001b[0;36m0\u001b[0m\u001b[0;34m)\u001b[0m\u001b[0;34m:\u001b[0m\u001b[0;34m\u001b[0m\u001b[0;34m\u001b[0m\u001b[0m\n\u001b[1;32m     24\u001b[0m     windows = pd.DataFrame({\n",
            "\u001b[0;32m<ipython-input-64-11274db8f811>\u001b[0m in \u001b[0;36mmake_continious_labels\u001b[0;34m(events, length, time_resolution)\u001b[0m\n\u001b[1;32m     17\u001b[0m     \u001b[0mix\u001b[0m\u001b[0;34m.\u001b[0m\u001b[0mname\u001b[0m \u001b[0;34m=\u001b[0m \u001b[0;34m'time'\u001b[0m\u001b[0;34m\u001b[0m\u001b[0;34m\u001b[0m\u001b[0m\n\u001b[1;32m     18\u001b[0m     \u001b[0mdf\u001b[0m \u001b[0;34m=\u001b[0m \u001b[0mpd\u001b[0m\u001b[0;34m.\u001b[0m\u001b[0mDataFrame\u001b[0m\u001b[0;34m(\u001b[0m\u001b[0;34m{\u001b[0m\u001b[0;34m}\u001b[0m\u001b[0;34m,\u001b[0m \u001b[0mindex\u001b[0m\u001b[0;34m=\u001b[0m\u001b[0mix\u001b[0m\u001b[0;34m)\u001b[0m\u001b[0;34m\u001b[0m\u001b[0;34m\u001b[0m\u001b[0m\n\u001b[0;32m---> 19\u001b[0;31m     \u001b[0;32massert\u001b[0m \u001b[0mlen\u001b[0m\u001b[0;34m(\u001b[0m\u001b[0mdf\u001b[0m\u001b[0;34m)\u001b[0m \u001b[0;34m==\u001b[0m \u001b[0mlength\u001b[0m\u001b[0;34m,\u001b[0m \u001b[0;34m(\u001b[0m\u001b[0mlen\u001b[0m\u001b[0;34m(\u001b[0m\u001b[0mdf\u001b[0m\u001b[0;34m)\u001b[0m\u001b[0;34m,\u001b[0m \u001b[0mlength\u001b[0m\u001b[0;34m)\u001b[0m\u001b[0;34m\u001b[0m\u001b[0;34m\u001b[0m\u001b[0m\n\u001b[0m\u001b[1;32m     20\u001b[0m     \u001b[0mdf\u001b[0m\u001b[0;34m[\u001b[0m\u001b[0;34m\"event\"\u001b[0m\u001b[0;34m]\u001b[0m \u001b[0;34m=\u001b[0m \u001b[0;36m0\u001b[0m\u001b[0;34m\u001b[0m\u001b[0;34m\u001b[0m\u001b[0m\n\u001b[1;32m     21\u001b[0m \u001b[0;34m\u001b[0m\u001b[0m\n",
            "\u001b[0;31mAssertionError\u001b[0m: (23, 24)"
          ]
        }
      ]
    },
    {
      "cell_type": "code",
      "source": [
        "annotations.duration.hist(width=0.10, range=(0, 1.0), figsize=(3, 3))\n",
        "plt.savefig(\"figure5.jpeg\",dpi=800)"
      ],
      "metadata": {
        "colab": {
          "base_uri": "https://localhost:8080/",
          "height": 291
        },
        "id": "EN_ewUIp8rUE",
        "outputId": "770f80a8-3ae8-47c9-f587-a78a238dd653"
      },
      "execution_count": 67,
      "outputs": [
        {
          "output_type": "display_data",
          "data": {
            "text/plain": [
              "<Figure size 300x300 with 1 Axes>"
            ],
            "image/png": "[encoded data removed]"
          },
          "metadata": {}
        }
      ]
    },
    {
      "cell_type": "code",
      "source": [
        "(annotations['start'] - (annotations['end'].shift(1))).hist(width=0.1, range=(0, 1.0), figsize=(3, 3))\n",
        "plt.savefig(\"figure5.jpeg\",dpi=800)\n"
      ],
      "metadata": {
        "colab": {
          "base_uri": "https://localhost:8080/",
          "height": 291
        },
        "id": "Q5GYaWnD9Ecm",
        "outputId": "be806ba9-c92d-45b5-a18d-8f5c36a0a5e8"
      },
      "execution_count": 68,
      "outputs": [
        {
          "output_type": "display_data",
          "data": {
            "text/plain": [
              "<Figure size 300x300 with 1 Axes>"
            ],
            "image/png": "[encoded data removed]"
          },
          "metadata": {}
        }
      ]
    },
    {
      "cell_type": "code",
      "source": [
        "folder_path = '/content/gdrive/MyDrive/EE798/Data/Annotation/Female/TMIT'\n",
        "folder_path2 = '/content/gdrive/MyDrive/EE798/Data/Audio/Female/TMIT'\n",
        "\n",
        "# List files in the folder\n",
        "files = os.listdir(folder_path)\n",
        "\n",
        "# Process the files\n",
        "for file_name in files:\n",
        "\n",
        "  audio_path = folder_path2 + \"/\" + file_name.split(\".\")[0] + \".wav\"\n",
        "  annotations_path = folder_path + \"/\" + file_name\n",
        "\n",
        "  annotations = load_annotations(annotations_path)\n",
        "  spec = load_spectrogram(audio_path, hop_length=hop_length, n_fft=n_fft)\n",
        "  l = make_continious_labels(annotations, spec.shape[1], time_resolution)\n",
        "  window = pd.DataFrame({\n",
        "      'spectrogram': compute_windows(spec, frames=window_length, step=2),\n",
        "      'labels': compute_windows(l.values.T, frames=window_length, step=2),\n",
        "      'file': audio_path,\n",
        "  })\n",
        "  window['event'] = window.labels.apply(lambda labels: np.any(labels, axis=-1)).astype(int)\n",
        "  window[window.event == True]\n",
        "  windows = windows.append(window, ignore_index = True)\n",
        "  i = i + 1"
      ],
      "metadata": {
        "colab": {
          "base_uri": "https://localhost:8080/",
          "height": 456
        },
        "id": "s1BXmmzDwheI",
        "outputId": "89cfa3c7-3180-4944-b67b-b783e71501a1"
      },
      "execution_count": 69,
      "outputs": [
        {
          "output_type": "stream",
          "name": "stderr",
          "text": [
            "<ipython-input-69-56641d513ca7>:23: FutureWarning: The frame.append method is deprecated and will be removed from pandas in a future version. Use pandas.concat instead.\n",
            "  windows = windows.append(window, ignore_index = True)\n",
            "<ipython-input-69-56641d513ca7>:23: FutureWarning: The frame.append method is deprecated and will be removed from pandas in a future version. Use pandas.concat instead.\n",
            "  windows = windows.append(window, ignore_index = True)\n"
          ]
        },
        {
          "output_type": "error",
          "ename": "AssertionError",
          "evalue": "ignored",
          "traceback": [
            "\u001b[0;31m---------------------------------------------------------------------------\u001b[0m",
            "\u001b[0;31mAssertionError\u001b[0m                            Traceback (most recent call last)",
            "\u001b[0;32m<ipython-input-69-56641d513ca7>\u001b[0m in \u001b[0;36m<cell line: 8>\u001b[0;34m()\u001b[0m\n\u001b[1;32m     13\u001b[0m   \u001b[0mannotations\u001b[0m \u001b[0;34m=\u001b[0m \u001b[0mload_annotations\u001b[0m\u001b[0;34m(\u001b[0m\u001b[0mannotations_path\u001b[0m\u001b[0;34m)\u001b[0m\u001b[0;34m\u001b[0m\u001b[0;34m\u001b[0m\u001b[0m\n\u001b[1;32m     14\u001b[0m   \u001b[0mspec\u001b[0m \u001b[0;34m=\u001b[0m \u001b[0mload_spectrogram\u001b[0m\u001b[0;34m(\u001b[0m\u001b[0maudio_path\u001b[0m\u001b[0;34m,\u001b[0m \u001b[0mhop_length\u001b[0m\u001b[0;34m=\u001b[0m\u001b[0mhop_length\u001b[0m\u001b[0;34m,\u001b[0m \u001b[0mn_fft\u001b[0m\u001b[0;34m=\u001b[0m\u001b[0mn_fft\u001b[0m\u001b[0;34m)\u001b[0m\u001b[0;34m\u001b[0m\u001b[0;34m\u001b[0m\u001b[0m\n\u001b[0;32m---> 15\u001b[0;31m   \u001b[0ml\u001b[0m \u001b[0;34m=\u001b[0m \u001b[0mmake_continious_labels\u001b[0m\u001b[0;34m(\u001b[0m\u001b[0mannotations\u001b[0m\u001b[0;34m,\u001b[0m \u001b[0mspec\u001b[0m\u001b[0;34m.\u001b[0m\u001b[0mshape\u001b[0m\u001b[0;34m[\u001b[0m\u001b[0;36m1\u001b[0m\u001b[0;34m]\u001b[0m\u001b[0;34m,\u001b[0m \u001b[0mtime_resolution\u001b[0m\u001b[0;34m)\u001b[0m\u001b[0;34m\u001b[0m\u001b[0;34m\u001b[0m\u001b[0m\n\u001b[0m\u001b[1;32m     16\u001b[0m   window = pd.DataFrame({\n\u001b[1;32m     17\u001b[0m       \u001b[0;34m'spectrogram'\u001b[0m\u001b[0;34m:\u001b[0m \u001b[0mcompute_windows\u001b[0m\u001b[0;34m(\u001b[0m\u001b[0mspec\u001b[0m\u001b[0;34m,\u001b[0m \u001b[0mframes\u001b[0m\u001b[0;34m=\u001b[0m\u001b[0mwindow_length\u001b[0m\u001b[0;34m,\u001b[0m \u001b[0mstep\u001b[0m\u001b[0;34m=\u001b[0m\u001b[0;36m2\u001b[0m\u001b[0;34m)\u001b[0m\u001b[0;34m,\u001b[0m\u001b[0;34m\u001b[0m\u001b[0;34m\u001b[0m\u001b[0m\n",
            "\u001b[0;32m<ipython-input-64-11274db8f811>\u001b[0m in \u001b[0;36mmake_continious_labels\u001b[0;34m(events, length, time_resolution)\u001b[0m\n\u001b[1;32m     17\u001b[0m     \u001b[0mix\u001b[0m\u001b[0;34m.\u001b[0m\u001b[0mname\u001b[0m \u001b[0;34m=\u001b[0m \u001b[0;34m'time'\u001b[0m\u001b[0;34m\u001b[0m\u001b[0;34m\u001b[0m\u001b[0m\n\u001b[1;32m     18\u001b[0m     \u001b[0mdf\u001b[0m \u001b[0;34m=\u001b[0m \u001b[0mpd\u001b[0m\u001b[0;34m.\u001b[0m\u001b[0mDataFrame\u001b[0m\u001b[0;34m(\u001b[0m\u001b[0;34m{\u001b[0m\u001b[0;34m}\u001b[0m\u001b[0;34m,\u001b[0m \u001b[0mindex\u001b[0m\u001b[0;34m=\u001b[0m\u001b[0mix\u001b[0m\u001b[0;34m)\u001b[0m\u001b[0;34m\u001b[0m\u001b[0;34m\u001b[0m\u001b[0m\n\u001b[0;32m---> 19\u001b[0;31m     \u001b[0;32massert\u001b[0m \u001b[0mlen\u001b[0m\u001b[0;34m(\u001b[0m\u001b[0mdf\u001b[0m\u001b[0;34m)\u001b[0m \u001b[0;34m==\u001b[0m \u001b[0mlength\u001b[0m\u001b[0;34m,\u001b[0m \u001b[0;34m(\u001b[0m\u001b[0mlen\u001b[0m\u001b[0;34m(\u001b[0m\u001b[0mdf\u001b[0m\u001b[0;34m)\u001b[0m\u001b[0;34m,\u001b[0m \u001b[0mlength\u001b[0m\u001b[0;34m)\u001b[0m\u001b[0;34m\u001b[0m\u001b[0;34m\u001b[0m\u001b[0m\n\u001b[0m\u001b[1;32m     20\u001b[0m     \u001b[0mdf\u001b[0m\u001b[0;34m[\u001b[0m\u001b[0;34m\"event\"\u001b[0m\u001b[0;34m]\u001b[0m \u001b[0;34m=\u001b[0m \u001b[0;36m0\u001b[0m\u001b[0;34m\u001b[0m\u001b[0;34m\u001b[0m\u001b[0m\n\u001b[1;32m     21\u001b[0m \u001b[0;34m\u001b[0m\u001b[0m\n",
            "\u001b[0;31mAssertionError\u001b[0m: (8, 9)"
          ]
        }
      ]
    },
    {
      "cell_type": "code",
      "source": [
        "folder_path = '/content/gdrive/MyDrive/EE798/Data/Annotation/Male/PTDB-TUG'\n",
        "folder_path2 = '/content/gdrive/MyDrive/EE798/Data/Audio/Male/PTDB-TUG'\n",
        "\n",
        "# List files in the folder\n",
        "files = os.listdir(folder_path)\n",
        "\n",
        "# Process the files\n",
        "for file_name in files:\n",
        "\n",
        "  audio_path = folder_path2 + \"/\" + file_name.split(\".\")[0] + \".wav\"\n",
        "  annotations_path = folder_path + \"/\" + file_name\n",
        "\n",
        "  annotations = load_annotations(annotations_path)\n",
        "  spec = load_spectrogram(audio_path, hop_length=hop_length, n_fft=n_fft)\n",
        "  l = make_continious_labels(annotations, spec.shape[1], time_resolution)\n",
        "  window = pd.DataFrame({\n",
        "      'spectrogram': compute_windows(spec, frames=window_length, step=2),\n",
        "      'labels': compute_windows(l.values.T, frames=window_length, step=2),\n",
        "      'file': audio_path,\n",
        "  })\n",
        "  window['event'] = window.labels.apply(lambda labels: np.any(labels, axis=-1)).astype(int)\n",
        "  window[window.event == True]\n",
        "  windows = windows.append(window, ignore_index = True)\n",
        "  i = i + 1"
      ],
      "metadata": {
        "colab": {
          "base_uri": "https://localhost:8080/",
          "height": 366
        },
        "id": "h1J_TU_fwuye",
        "outputId": "da78129f-4b30-4133-e514-2e23b9d1570a"
      },
      "execution_count": 70,
      "outputs": [
        {
          "output_type": "error",
          "ename": "AssertionError",
          "evalue": "ignored",
          "traceback": [
            "\u001b[0;31m---------------------------------------------------------------------------\u001b[0m",
            "\u001b[0;31mAssertionError\u001b[0m                            Traceback (most recent call last)",
            "\u001b[0;32m<ipython-input-70-0457d8434852>\u001b[0m in \u001b[0;36m<cell line: 8>\u001b[0;34m()\u001b[0m\n\u001b[1;32m     13\u001b[0m   \u001b[0mannotations\u001b[0m \u001b[0;34m=\u001b[0m \u001b[0mload_annotations\u001b[0m\u001b[0;34m(\u001b[0m\u001b[0mannotations_path\u001b[0m\u001b[0;34m)\u001b[0m\u001b[0;34m\u001b[0m\u001b[0;34m\u001b[0m\u001b[0m\n\u001b[1;32m     14\u001b[0m   \u001b[0mspec\u001b[0m \u001b[0;34m=\u001b[0m \u001b[0mload_spectrogram\u001b[0m\u001b[0;34m(\u001b[0m\u001b[0maudio_path\u001b[0m\u001b[0;34m,\u001b[0m \u001b[0mhop_length\u001b[0m\u001b[0;34m=\u001b[0m\u001b[0mhop_length\u001b[0m\u001b[0;34m,\u001b[0m \u001b[0mn_fft\u001b[0m\u001b[0;34m=\u001b[0m\u001b[0mn_fft\u001b[0m\u001b[0;34m)\u001b[0m\u001b[0;34m\u001b[0m\u001b[0;34m\u001b[0m\u001b[0m\n\u001b[0;32m---> 15\u001b[0;31m   \u001b[0ml\u001b[0m \u001b[0;34m=\u001b[0m \u001b[0mmake_continious_labels\u001b[0m\u001b[0;34m(\u001b[0m\u001b[0mannotations\u001b[0m\u001b[0;34m,\u001b[0m \u001b[0mspec\u001b[0m\u001b[0;34m.\u001b[0m\u001b[0mshape\u001b[0m\u001b[0;34m[\u001b[0m\u001b[0;36m1\u001b[0m\u001b[0;34m]\u001b[0m\u001b[0;34m,\u001b[0m \u001b[0mtime_resolution\u001b[0m\u001b[0;34m)\u001b[0m\u001b[0;34m\u001b[0m\u001b[0;34m\u001b[0m\u001b[0m\n\u001b[0m\u001b[1;32m     16\u001b[0m   window = pd.DataFrame({\n\u001b[1;32m     17\u001b[0m       \u001b[0;34m'spectrogram'\u001b[0m\u001b[0;34m:\u001b[0m \u001b[0mcompute_windows\u001b[0m\u001b[0;34m(\u001b[0m\u001b[0mspec\u001b[0m\u001b[0;34m,\u001b[0m \u001b[0mframes\u001b[0m\u001b[0;34m=\u001b[0m\u001b[0mwindow_length\u001b[0m\u001b[0;34m,\u001b[0m \u001b[0mstep\u001b[0m\u001b[0;34m=\u001b[0m\u001b[0;36m2\u001b[0m\u001b[0;34m)\u001b[0m\u001b[0;34m,\u001b[0m\u001b[0;34m\u001b[0m\u001b[0;34m\u001b[0m\u001b[0m\n",
            "\u001b[0;32m<ipython-input-64-11274db8f811>\u001b[0m in \u001b[0;36mmake_continious_labels\u001b[0;34m(events, length, time_resolution)\u001b[0m\n\u001b[1;32m     17\u001b[0m     \u001b[0mix\u001b[0m\u001b[0;34m.\u001b[0m\u001b[0mname\u001b[0m \u001b[0;34m=\u001b[0m \u001b[0;34m'time'\u001b[0m\u001b[0;34m\u001b[0m\u001b[0;34m\u001b[0m\u001b[0m\n\u001b[1;32m     18\u001b[0m     \u001b[0mdf\u001b[0m \u001b[0;34m=\u001b[0m \u001b[0mpd\u001b[0m\u001b[0;34m.\u001b[0m\u001b[0mDataFrame\u001b[0m\u001b[0;34m(\u001b[0m\u001b[0;34m{\u001b[0m\u001b[0;34m}\u001b[0m\u001b[0;34m,\u001b[0m \u001b[0mindex\u001b[0m\u001b[0;34m=\u001b[0m\u001b[0mix\u001b[0m\u001b[0;34m)\u001b[0m\u001b[0;34m\u001b[0m\u001b[0;34m\u001b[0m\u001b[0m\n\u001b[0;32m---> 19\u001b[0;31m     \u001b[0;32massert\u001b[0m \u001b[0mlen\u001b[0m\u001b[0;34m(\u001b[0m\u001b[0mdf\u001b[0m\u001b[0;34m)\u001b[0m \u001b[0;34m==\u001b[0m \u001b[0mlength\u001b[0m\u001b[0;34m,\u001b[0m \u001b[0;34m(\u001b[0m\u001b[0mlen\u001b[0m\u001b[0;34m(\u001b[0m\u001b[0mdf\u001b[0m\u001b[0;34m)\u001b[0m\u001b[0;34m,\u001b[0m \u001b[0mlength\u001b[0m\u001b[0;34m)\u001b[0m\u001b[0;34m\u001b[0m\u001b[0;34m\u001b[0m\u001b[0m\n\u001b[0m\u001b[1;32m     20\u001b[0m     \u001b[0mdf\u001b[0m\u001b[0;34m[\u001b[0m\u001b[0;34m\"event\"\u001b[0m\u001b[0;34m]\u001b[0m \u001b[0;34m=\u001b[0m \u001b[0;36m0\u001b[0m\u001b[0;34m\u001b[0m\u001b[0;34m\u001b[0m\u001b[0m\n\u001b[1;32m     21\u001b[0m \u001b[0;34m\u001b[0m\u001b[0m\n",
            "\u001b[0;31mAssertionError\u001b[0m: (22, 23)"
          ]
        }
      ]
    },
    {
      "cell_type": "code",
      "source": [
        "folder_path = '/content/gdrive/MyDrive/EE798/Data/Annotation/Male/TMIT'\n",
        "folder_path2 = '/content/gdrive/MyDrive/EE798/Data/Audio/Male/TMIT'\n",
        "\n",
        "# List files in the folder\n",
        "files = os.listdir(folder_path)\n",
        "\n",
        "# Process the files\n",
        "for file_name in files:\n",
        "\n",
        "  audio_path = folder_path2 + \"/\" + file_name.split(\".\")[0] + \".wav\"\n",
        "  annotations_path = folder_path + \"/\" + file_name\n",
        "\n",
        "  annotations = load_annotations(annotations_path)\n",
        "  spec = load_spectrogram(audio_path, hop_length=hop_length, n_fft=n_fft)\n",
        "  l = make_continious_labels(annotations, spec.shape[1], time_resolution)\n",
        "  window = pd.DataFrame({\n",
        "      'spectrogram': compute_windows(spec, frames=window_length, step=2),\n",
        "      'labels': compute_windows(l.values.T, frames=window_length, step=2),\n",
        "      'file': audio_path,\n",
        "  })\n",
        "  window['event'] = window.labels.apply(lambda labels: np.any(labels, axis=-1)).astype(int)\n",
        "  window[window.event == True]\n",
        "  windows = windows.append(window, ignore_index = True)"
      ],
      "metadata": {
        "colab": {
          "base_uri": "https://localhost:8080/",
          "height": 803
        },
        "id": "e-wHQWOsxV9H",
        "outputId": "2b55f399-27e9-4668-be00-4857d26a4dbb"
      },
      "execution_count": 71,
      "outputs": [
        {
          "output_type": "stream",
          "name": "stderr",
          "text": [
            "<ipython-input-71-a4dfdd822277>:23: FutureWarning: The frame.append method is deprecated and will be removed from pandas in a future version. Use pandas.concat instead.\n",
            "  windows = windows.append(window, ignore_index = True)\n",
            "<ipython-input-71-a4dfdd822277>:23: FutureWarning: The frame.append method is deprecated and will be removed from pandas in a future version. Use pandas.concat instead.\n",
            "  windows = windows.append(window, ignore_index = True)\n",
            "<ipython-input-71-a4dfdd822277>:23: FutureWarning: The frame.append method is deprecated and will be removed from pandas in a future version. Use pandas.concat instead.\n",
            "  windows = windows.append(window, ignore_index = True)\n",
            "<ipython-input-71-a4dfdd822277>:23: FutureWarning: The frame.append method is deprecated and will be removed from pandas in a future version. Use pandas.concat instead.\n",
            "  windows = windows.append(window, ignore_index = True)\n",
            "<ipython-input-71-a4dfdd822277>:23: FutureWarning: The frame.append method is deprecated and will be removed from pandas in a future version. Use pandas.concat instead.\n",
            "  windows = windows.append(window, ignore_index = True)\n",
            "<ipython-input-71-a4dfdd822277>:23: FutureWarning: The frame.append method is deprecated and will be removed from pandas in a future version. Use pandas.concat instead.\n",
            "  windows = windows.append(window, ignore_index = True)\n",
            "<ipython-input-71-a4dfdd822277>:23: FutureWarning: The frame.append method is deprecated and will be removed from pandas in a future version. Use pandas.concat instead.\n",
            "  windows = windows.append(window, ignore_index = True)\n",
            "<ipython-input-71-a4dfdd822277>:23: FutureWarning: The frame.append method is deprecated and will be removed from pandas in a future version. Use pandas.concat instead.\n",
            "  windows = windows.append(window, ignore_index = True)\n",
            "<ipython-input-71-a4dfdd822277>:23: FutureWarning: The frame.append method is deprecated and will be removed from pandas in a future version. Use pandas.concat instead.\n",
            "  windows = windows.append(window, ignore_index = True)\n",
            "<ipython-input-71-a4dfdd822277>:23: FutureWarning: The frame.append method is deprecated and will be removed from pandas in a future version. Use pandas.concat instead.\n",
            "  windows = windows.append(window, ignore_index = True)\n",
            "<ipython-input-71-a4dfdd822277>:23: FutureWarning: The frame.append method is deprecated and will be removed from pandas in a future version. Use pandas.concat instead.\n",
            "  windows = windows.append(window, ignore_index = True)\n",
            "<ipython-input-71-a4dfdd822277>:23: FutureWarning: The frame.append method is deprecated and will be removed from pandas in a future version. Use pandas.concat instead.\n",
            "  windows = windows.append(window, ignore_index = True)\n"
          ]
        },
        {
          "output_type": "error",
          "ename": "AssertionError",
          "evalue": "ignored",
          "traceback": [
            "\u001b[0;31m---------------------------------------------------------------------------\u001b[0m",
            "\u001b[0;31mAssertionError\u001b[0m                            Traceback (most recent call last)",
            "\u001b[0;32m<ipython-input-71-a4dfdd822277>\u001b[0m in \u001b[0;36m<cell line: 8>\u001b[0;34m()\u001b[0m\n\u001b[1;32m     13\u001b[0m   \u001b[0mannotations\u001b[0m \u001b[0;34m=\u001b[0m \u001b[0mload_annotations\u001b[0m\u001b[0;34m(\u001b[0m\u001b[0mannotations_path\u001b[0m\u001b[0;34m)\u001b[0m\u001b[0;34m\u001b[0m\u001b[0;34m\u001b[0m\u001b[0m\n\u001b[1;32m     14\u001b[0m   \u001b[0mspec\u001b[0m \u001b[0;34m=\u001b[0m \u001b[0mload_spectrogram\u001b[0m\u001b[0;34m(\u001b[0m\u001b[0maudio_path\u001b[0m\u001b[0;34m,\u001b[0m \u001b[0mhop_length\u001b[0m\u001b[0;34m=\u001b[0m\u001b[0mhop_length\u001b[0m\u001b[0;34m,\u001b[0m \u001b[0mn_fft\u001b[0m\u001b[0;34m=\u001b[0m\u001b[0mn_fft\u001b[0m\u001b[0;34m)\u001b[0m\u001b[0;34m\u001b[0m\u001b[0;34m\u001b[0m\u001b[0m\n\u001b[0;32m---> 15\u001b[0;31m   \u001b[0ml\u001b[0m \u001b[0;34m=\u001b[0m \u001b[0mmake_continious_labels\u001b[0m\u001b[0;34m(\u001b[0m\u001b[0mannotations\u001b[0m\u001b[0;34m,\u001b[0m \u001b[0mspec\u001b[0m\u001b[0;34m.\u001b[0m\u001b[0mshape\u001b[0m\u001b[0;34m[\u001b[0m\u001b[0;36m1\u001b[0m\u001b[0;34m]\u001b[0m\u001b[0;34m,\u001b[0m \u001b[0mtime_resolution\u001b[0m\u001b[0;34m)\u001b[0m\u001b[0;34m\u001b[0m\u001b[0;34m\u001b[0m\u001b[0m\n\u001b[0m\u001b[1;32m     16\u001b[0m   window = pd.DataFrame({\n\u001b[1;32m     17\u001b[0m       \u001b[0;34m'spectrogram'\u001b[0m\u001b[0;34m:\u001b[0m \u001b[0mcompute_windows\u001b[0m\u001b[0;34m(\u001b[0m\u001b[0mspec\u001b[0m\u001b[0;34m,\u001b[0m \u001b[0mframes\u001b[0m\u001b[0;34m=\u001b[0m\u001b[0mwindow_length\u001b[0m\u001b[0;34m,\u001b[0m \u001b[0mstep\u001b[0m\u001b[0;34m=\u001b[0m\u001b[0;36m2\u001b[0m\u001b[0;34m)\u001b[0m\u001b[0;34m,\u001b[0m\u001b[0;34m\u001b[0m\u001b[0;34m\u001b[0m\u001b[0m\n",
            "\u001b[0;32m<ipython-input-64-11274db8f811>\u001b[0m in \u001b[0;36mmake_continious_labels\u001b[0;34m(events, length, time_resolution)\u001b[0m\n\u001b[1;32m     17\u001b[0m     \u001b[0mix\u001b[0m\u001b[0;34m.\u001b[0m\u001b[0mname\u001b[0m \u001b[0;34m=\u001b[0m \u001b[0;34m'time'\u001b[0m\u001b[0;34m\u001b[0m\u001b[0;34m\u001b[0m\u001b[0m\n\u001b[1;32m     18\u001b[0m     \u001b[0mdf\u001b[0m \u001b[0;34m=\u001b[0m \u001b[0mpd\u001b[0m\u001b[0;34m.\u001b[0m\u001b[0mDataFrame\u001b[0m\u001b[0;34m(\u001b[0m\u001b[0;34m{\u001b[0m\u001b[0;34m}\u001b[0m\u001b[0;34m,\u001b[0m \u001b[0mindex\u001b[0m\u001b[0;34m=\u001b[0m\u001b[0mix\u001b[0m\u001b[0;34m)\u001b[0m\u001b[0;34m\u001b[0m\u001b[0;34m\u001b[0m\u001b[0m\n\u001b[0;32m---> 19\u001b[0;31m     \u001b[0;32massert\u001b[0m \u001b[0mlen\u001b[0m\u001b[0;34m(\u001b[0m\u001b[0mdf\u001b[0m\u001b[0;34m)\u001b[0m \u001b[0;34m==\u001b[0m \u001b[0mlength\u001b[0m\u001b[0;34m,\u001b[0m \u001b[0;34m(\u001b[0m\u001b[0mlen\u001b[0m\u001b[0;34m(\u001b[0m\u001b[0mdf\u001b[0m\u001b[0;34m)\u001b[0m\u001b[0;34m,\u001b[0m \u001b[0mlength\u001b[0m\u001b[0;34m)\u001b[0m\u001b[0;34m\u001b[0m\u001b[0;34m\u001b[0m\u001b[0m\n\u001b[0m\u001b[1;32m     20\u001b[0m     \u001b[0mdf\u001b[0m\u001b[0;34m[\u001b[0m\u001b[0;34m\"event\"\u001b[0m\u001b[0;34m]\u001b[0m \u001b[0;34m=\u001b[0m \u001b[0;36m0\u001b[0m\u001b[0;34m\u001b[0m\u001b[0;34m\u001b[0m\u001b[0m\n\u001b[1;32m     21\u001b[0m \u001b[0;34m\u001b[0m\u001b[0m\n",
            "\u001b[0;31mAssertionError\u001b[0m: (11, 12)"
          ]
        }
      ]
    },
    {
      "cell_type": "code",
      "source": [
        "len(windows)"
      ],
      "metadata": {
        "colab": {
          "base_uri": "https://localhost:8080/"
        },
        "id": "5Vu7ZgBCu-rQ",
        "outputId": "05ff6239-b86c-47cf-fba6-9074fe47c08e"
      },
      "execution_count": 72,
      "outputs": [
        {
          "output_type": "execute_result",
          "data": {
            "text/plain": [
              "3594"
            ]
          },
          "metadata": {},
          "execution_count": 72
        }
      ]
    },
    {
      "cell_type": "code",
      "source": [
        "windows = windows.sample(frac = 1)"
      ],
      "metadata": {
        "id": "Bt1kFb-v09RY"
      },
      "execution_count": 73,
      "outputs": []
    },
    {
      "cell_type": "code",
      "source": [
        "def dataset_split_sequentially(data, val_size=0.15, test_size=0.15, random_state=3, column='split'):\n",
        "    \"\"\"\n",
        "    Split DataFrame into 3 non-overlapping parts: train,val,test\n",
        "    with specified proportions\n",
        "\n",
        "    Returns a new DataFrame with the rows marked by the assigned split in @column\n",
        "    \"\"\"\n",
        "    train_size = (1.0 - val_size - test_size)\n",
        "\n",
        "    train_stop = int(len(data) * train_size)\n",
        "    val_stop = train_stop + int(len(data)*val_size)\n",
        "\n",
        "    train_idx = data.index[0:train_stop]\n",
        "    val_idx = data.index[train_stop:val_stop]\n",
        "    test_idx = data.index[val_stop:-1]\n",
        "\n",
        "    data = data.copy()\n",
        "    data.loc[train_idx, column] = 'train'\n",
        "    data.loc[val_idx, column] = 'val'\n",
        "    data.loc[test_idx, column] = 'test'\n",
        "\n",
        "    return data\n",
        "\n",
        "dataset = dataset_split_sequentially(windows, val_size=val_size, test_size=test_size)\n",
        "dataset.split.value_counts()"
      ],
      "metadata": {
        "colab": {
          "base_uri": "https://localhost:8080/"
        },
        "id": "b-bs41f8G26Y",
        "outputId": "bcea8bf1-28fc-4b00-8196-2e55b58faf48"
      },
      "execution_count": 74,
      "outputs": [
        {
          "output_type": "execute_result",
          "data": {
            "text/plain": [
              "train    2515\n",
              "val       539\n",
              "test      539\n",
              "Name: split, dtype: int64"
            ]
          },
          "metadata": {},
          "execution_count": 74
        }
      ]
    },
    {
      "cell_type": "code",
      "source": [
        "import tensorflow.keras\n",
        "\n",
        "def weighted_binary_crossentropy(zero_weight, one_weight):\n",
        "    \"\"\"\n",
        "    Loss with support for specifying class weights\n",
        "    \"\"\"\n",
        "    import tensorflow.keras.backend as K\n",
        "\n",
        "    def weighted_binary_crossentropy(y_true, y_pred):\n",
        "\n",
        "        # standard cross entropy\n",
        "        b_ce = K.binary_crossentropy(y_true, y_pred)\n",
        "\n",
        "        # apply weighting\n",
        "        weight_vector = y_true * one_weight + (1 - y_true) * zero_weight\n",
        "        weighted_b_ce = weight_vector * b_ce\n",
        "\n",
        "        return K.mean(weighted_b_ce)\n",
        "\n",
        "    return weighted_binary_crossentropy\n",
        "\n",
        "def build_sednet(input_shape, filters=128, cnn_pooling=(5, 2, 2), rnn_units=(32, 32), dense_units=(32,), n_classes=1, dropout=0.5):\n",
        "    \"\"\"\n",
        "    SEDnet type model\n",
        "\n",
        "    Based https://github.com/sharathadavanne/sed-crnn/blob/master/sed.py\n",
        "    \"\"\"\n",
        "\n",
        "    from tensorflow.keras import Model\n",
        "    from tensorflow.keras.layers import Input, Bidirectional, Conv2D, BatchNormalization, Activation, \\\n",
        "            Dense, MaxPooling2D, Dropout, Permute, Reshape, GRU, TimeDistributed\n",
        "\n",
        "    spec_start = Input(shape=(input_shape[-3], input_shape[-2], input_shape[-1]))\n",
        "    spec_x = spec_start\n",
        "    for i, pool in enumerate(cnn_pooling):\n",
        "        spec_x = Conv2D(filters=filters, kernel_size=(3, 3), padding='same')(spec_x)\n",
        "        spec_x = BatchNormalization(axis=1)(spec_x)\n",
        "        spec_x = Activation('relu')(spec_x)\n",
        "        spec_x = MaxPooling2D(pool_size=(1, pool))(spec_x)\n",
        "        spec_x = Dropout(dropout)(spec_x)\n",
        "    spec_x = Permute((2, 1, 3))(spec_x)\n",
        "    spec_x = Reshape((input_shape[-3], -1))(spec_x)\n",
        "\n",
        "    for units in rnn_units:\n",
        "        spec_x = Bidirectional(\n",
        "            GRU(units, activation='tanh', dropout=dropout, recurrent_dropout=dropout, return_sequences=True),\n",
        "            merge_mode='mul')(spec_x)\n",
        "\n",
        "    for units in dense_units:\n",
        "        spec_x = TimeDistributed(Dense(units))(spec_x)\n",
        "        spec_x = Dropout(dropout)(spec_x)\n",
        "\n",
        "    spec_x = TimeDistributed(Dense(n_classes))(spec_x)\n",
        "    out = Activation('sigmoid', name='strong_out')(spec_x)\n",
        "\n",
        "    model = Model(inputs=spec_start, outputs=out)\n",
        "\n",
        "    return model\n",
        "\n",
        "def build_model(input_shape, dropout=0.5, lr=0.01, class_weights=None):\n",
        "\n",
        "    # Model\n",
        "    model = build_sednet(input_shape, n_classes=1,\n",
        "                         filters=10,\n",
        "                         cnn_pooling=[2, 2, 2],\n",
        "                         rnn_units=[5, 5],\n",
        "                         dense_units=[16],\n",
        "                         dropout=dropout,\n",
        "                        )\n",
        "\n",
        "    # Metrics\n",
        "    pr_auc = tensorflow.keras.metrics.AUC(num_thresholds=200, curve=\"PR\", name='pr_auc')\n",
        "    precision = tensorflow.keras.metrics.Precision(name='precision')\n",
        "    recall = tensorflow.keras.metrics.Recall(name='recall')\n",
        "\n",
        "    # Loss\n",
        "    if class_weights is None:\n",
        "        loss = tensorflow.keras.losses.BinaryCrossentropy()\n",
        "    else:\n",
        "        loss = weighted_binary_crossentropy(*class_weights)\n",
        "\n",
        "    model.compile(optimizer=tensorflow.keras.optimizers.Adam(learning_rate=lr),\n",
        "                  loss=loss,\n",
        "                  metrics=[pr_auc, precision, recall],\n",
        "    )\n",
        "    return model\n",
        "\n",
        "model = build_model(input_shape=(window_length, 32, 1))\n",
        "model.summary()"
      ],
      "metadata": {
        "colab": {
          "base_uri": "https://localhost:8080/"
        },
        "id": "uIJBZeAeG3AY",
        "outputId": "f22971b9-96de-4e05-dac2-f2462ef346a2"
      },
      "execution_count": 91,
      "outputs": [
        {
          "output_type": "stream",
          "name": "stdout",
          "text": [
            "Model: \"model_5\"\n",
            "_________________________________________________________________\n",
            " Layer (type)                Output Shape              Param #   \n",
            "=================================================================\n",
            " input_6 (InputLayer)        [(None, 3, 32, 1)]        0         \n",
            "                                                                 \n",
            " conv2d_15 (Conv2D)          (None, 3, 32, 10)         100       \n",
            "                                                                 \n",
            " batch_normalization_15 (Ba  (None, 3, 32, 10)         12        \n",
            " tchNormalization)                                               \n",
            "                                                                 \n",
            " activation_15 (Activation)  (None, 3, 32, 10)         0         \n",
            "                                                                 \n",
            " max_pooling2d_15 (MaxPooli  (None, 3, 16, 10)         0         \n",
            " ng2D)                                                           \n",
            "                                                                 \n",
            " dropout_20 (Dropout)        (None, 3, 16, 10)         0         \n",
            "                                                                 \n",
            " conv2d_16 (Conv2D)          (None, 3, 16, 10)         910       \n",
            "                                                                 \n",
            " batch_normalization_16 (Ba  (None, 3, 16, 10)         12        \n",
            " tchNormalization)                                               \n",
            "                                                                 \n",
            " activation_16 (Activation)  (None, 3, 16, 10)         0         \n",
            "                                                                 \n",
            " max_pooling2d_16 (MaxPooli  (None, 3, 8, 10)          0         \n",
            " ng2D)                                                           \n",
            "                                                                 \n",
            " dropout_21 (Dropout)        (None, 3, 8, 10)          0         \n",
            "                                                                 \n",
            " conv2d_17 (Conv2D)          (None, 3, 8, 10)          910       \n",
            "                                                                 \n",
            " batch_normalization_17 (Ba  (None, 3, 8, 10)          12        \n",
            " tchNormalization)                                               \n",
            "                                                                 \n",
            " activation_17 (Activation)  (None, 3, 8, 10)          0         \n",
            "                                                                 \n",
            " max_pooling2d_17 (MaxPooli  (None, 3, 4, 10)          0         \n",
            " ng2D)                                                           \n",
            "                                                                 \n",
            " dropout_22 (Dropout)        (None, 3, 4, 10)          0         \n",
            "                                                                 \n",
            " permute_5 (Permute)         (None, 4, 3, 10)          0         \n",
            "                                                                 \n",
            " reshape_5 (Reshape)         (None, 3, 40)             0         \n",
            "                                                                 \n",
            " bidirectional_10 (Bidirect  (None, 3, 5)              1410      \n",
            " ional)                                                          \n",
            "                                                                 \n",
            " bidirectional_11 (Bidirect  (None, 3, 5)              360       \n",
            " ional)                                                          \n",
            "                                                                 \n",
            " time_distributed_10 (TimeD  (None, 3, 32)             192       \n",
            " istributed)                                                     \n",
            "                                                                 \n",
            " dropout_23 (Dropout)        (None, 3, 32)             0         \n",
            "                                                                 \n",
            " time_distributed_11 (TimeD  (None, 3, 1)              33        \n",
            " istributed)                                                     \n",
            "                                                                 \n",
            " strong_out (Activation)     (None, 3, 1)              0         \n",
            "                                                                 \n",
            "=================================================================\n",
            "Total params: 3951 (15.43 KB)\n",
            "Trainable params: 3933 (15.36 KB)\n",
            "Non-trainable params: 18 (72.00 Byte)\n",
            "_________________________________________________________________\n"
          ]
        }
      ]
    },
    {
      "cell_type": "code",
      "source": [
        "import matplotlib.pyplot as plt\n",
        "from keras.utils import plot_model\n",
        "\n",
        "# Assuming you already have a Keras model defined and compiled\n",
        "# model = ...\n",
        "\n",
        "# Save the model architecture to a file (e.g., model.png)\n",
        "plot_model(model, to_file='model.png', show_shapes=True, show_layer_names=True)\n",
        "\n",
        "# Display the saved image using Matplotlib\n",
        "img = plt.imread('model.png')\n",
        "plt.imshow(img)\n",
        "plt.axis('off')  # Turn off axis labels and ticks\n",
        "plt.show()"
      ],
      "metadata": {
        "colab": {
          "base_uri": "https://localhost:8080/",
          "height": 406
        },
        "id": "t86KDxcaywIN",
        "outputId": "95199659-ecaf-49d5-e513-a4e379bc0569"
      },
      "execution_count": 76,
      "outputs": [
        {
          "output_type": "display_data",
          "data": {
            "text/plain": [
              "<Figure size 640x480 with 1 Axes>"
            ],
            "image/png": "[encoded data removed]"
          },
          "metadata": {}
        }
      ]
    },
    {
      "cell_type": "code",
      "source": [
        "!pip install git+https://github.com/paulgavrikov/visualkeras --upgrade"
      ],
      "metadata": {
        "colab": {
          "base_uri": "https://localhost:8080/"
        },
        "id": "ryDcDI88-XtJ",
        "outputId": "ec2837bf-d38f-4912-ba3b-42c53b47c0df"
      },
      "execution_count": 96,
      "outputs": [
        {
          "output_type": "stream",
          "name": "stdout",
          "text": [
            "Collecting git+https://github.com/paulgavrikov/visualkeras\n",
            "  Cloning https://github.com/paulgavrikov/visualkeras to /tmp/pip-req-build-6323ej5p\n",
            "  Running command git clone --filter=blob:none --quiet https://github.com/paulgavrikov/visualkeras /tmp/pip-req-build-6323ej5p\n",
            "  Resolved https://github.com/paulgavrikov/visualkeras to commit cd169b81be347e2090353ad6fe2bd2e1f4020cf4\n",
            "  Preparing metadata (setup.py) ... \u001b[?25l\u001b[?25hdone\n",
            "Requirement already satisfied: pillow>=6.2.0 in /usr/local/lib/python3.10/dist-packages (from visualkeras==0.0.2) (9.4.0)\n",
            "Requirement already satisfied: numpy>=1.18.1 in /usr/local/lib/python3.10/dist-packages (from visualkeras==0.0.2) (1.23.5)\n",
            "Requirement already satisfied: aggdraw>=1.3.11 in /usr/local/lib/python3.10/dist-packages (from visualkeras==0.0.2) (1.3.16)\n"
          ]
        }
      ]
    },
    {
      "cell_type": "code",
      "source": [
        "pip install --upgrade visualkeras\n"
      ],
      "metadata": {
        "colab": {
          "base_uri": "https://localhost:8080/"
        },
        "id": "Wcg5kKeP_oMv",
        "outputId": "bdc949c4-3124-4d8c-f934-9290dc0101e3"
      },
      "execution_count": 99,
      "outputs": [
        {
          "output_type": "stream",
          "name": "stdout",
          "text": [
            "Requirement already satisfied: visualkeras in /usr/local/lib/python3.10/dist-packages (0.0.2)\n",
            "Requirement already satisfied: pillow>=6.2.0 in /usr/local/lib/python3.10/dist-packages (from visualkeras) (9.4.0)\n",
            "Requirement already satisfied: numpy>=1.18.1 in /usr/local/lib/python3.10/dist-packages (from visualkeras) (1.23.5)\n",
            "Requirement already satisfied: aggdraw>=1.3.11 in /usr/local/lib/python3.10/dist-packages (from visualkeras) (1.3.16)\n"
          ]
        }
      ]
    },
    {
      "cell_type": "code",
      "source": [
        "import visualkeras"
      ],
      "metadata": {
        "id": "XgqlZlg49Y4u"
      },
      "execution_count": 100,
      "outputs": []
    },
    {
      "cell_type": "code",
      "source": [
        "visualkeras.layered_view(model).show()"
      ],
      "metadata": {
        "colab": {
          "base_uri": "https://localhost:8080/",
          "height": 314
        },
        "id": "2Jm04zqT9bem",
        "outputId": "2ab08c62-323f-4a61-d1b5-7eb1f89c902d"
      },
      "execution_count": 98,
      "outputs": [
        {
          "output_type": "error",
          "ename": "TypeError",
          "evalue": "ignored",
          "traceback": [
            "\u001b[0;31m---------------------------------------------------------------------------\u001b[0m",
            "\u001b[0;31mTypeError\u001b[0m                                 Traceback (most recent call last)",
            "\u001b[0;32m<ipython-input-98-a629beed941f>\u001b[0m in \u001b[0;36m<cell line: 1>\u001b[0;34m()\u001b[0m\n\u001b[0;32m----> 1\u001b[0;31m \u001b[0mvisualkeras\u001b[0m\u001b[0;34m.\u001b[0m\u001b[0mlayered_view\u001b[0m\u001b[0;34m(\u001b[0m\u001b[0mmodel\u001b[0m\u001b[0;34m)\u001b[0m\u001b[0;34m.\u001b[0m\u001b[0mshow\u001b[0m\u001b[0;34m(\u001b[0m\u001b[0;34m)\u001b[0m\u001b[0;34m\u001b[0m\u001b[0;34m\u001b[0m\u001b[0m\n\u001b[0m",
            "\u001b[0;32m/usr/local/lib/python3.10/dist-packages/visualkeras/layered.py\u001b[0m in \u001b[0;36mlayered_view\u001b[0;34m(model, to_file, min_z, min_xy, max_z, max_xy, scale_z, scale_xy, type_ignore, index_ignore, color_map, one_dim_orientation, background_fill, draw_volume, padding, spacing, draw_funnel, shade_step, legend, font, font_color)\u001b[0m\n\u001b[1;32m     98\u001b[0m             \u001b[0mx\u001b[0m \u001b[0;34m=\u001b[0m \u001b[0mmin\u001b[0m\u001b[0;34m(\u001b[0m\u001b[0mmax\u001b[0m\u001b[0;34m(\u001b[0m\u001b[0mshape\u001b[0m\u001b[0;34m[\u001b[0m\u001b[0;36m1\u001b[0m\u001b[0;34m]\u001b[0m \u001b[0;34m*\u001b[0m \u001b[0mscale_xy\u001b[0m\u001b[0;34m,\u001b[0m \u001b[0mx\u001b[0m\u001b[0;34m)\u001b[0m\u001b[0;34m,\u001b[0m \u001b[0mmax_xy\u001b[0m\u001b[0;34m)\u001b[0m\u001b[0;34m\u001b[0m\u001b[0;34m\u001b[0m\u001b[0m\n\u001b[1;32m     99\u001b[0m             \u001b[0my\u001b[0m \u001b[0;34m=\u001b[0m \u001b[0mmin\u001b[0m\u001b[0;34m(\u001b[0m\u001b[0mmax\u001b[0m\u001b[0;34m(\u001b[0m\u001b[0mshape\u001b[0m\u001b[0;34m[\u001b[0m\u001b[0;36m2\u001b[0m\u001b[0;34m]\u001b[0m \u001b[0;34m*\u001b[0m \u001b[0mscale_xy\u001b[0m\u001b[0;34m,\u001b[0m \u001b[0my\u001b[0m\u001b[0;34m)\u001b[0m\u001b[0;34m,\u001b[0m \u001b[0mmax_xy\u001b[0m\u001b[0;34m)\u001b[0m\u001b[0;34m\u001b[0m\u001b[0;34m\u001b[0m\u001b[0m\n\u001b[0;32m--> 100\u001b[0;31m             \u001b[0mz\u001b[0m \u001b[0;34m=\u001b[0m \u001b[0mmin\u001b[0m\u001b[0;34m(\u001b[0m\u001b[0mmax\u001b[0m\u001b[0;34m(\u001b[0m\u001b[0mz\u001b[0m\u001b[0;34m)\u001b[0m\u001b[0;34m,\u001b[0m \u001b[0mmax_z\u001b[0m\u001b[0;34m)\u001b[0m\u001b[0;34m\u001b[0m\u001b[0;34m\u001b[0m\u001b[0m\n\u001b[0m\u001b[1;32m    101\u001b[0m         \u001b[0;32melif\u001b[0m \u001b[0mlen\u001b[0m\u001b[0;34m(\u001b[0m\u001b[0mshape\u001b[0m\u001b[0;34m)\u001b[0m \u001b[0;34m==\u001b[0m \u001b[0;36m2\u001b[0m\u001b[0;34m:\u001b[0m\u001b[0;34m\u001b[0m\u001b[0;34m\u001b[0m\u001b[0m\n\u001b[1;32m    102\u001b[0m             \u001b[0;32mif\u001b[0m \u001b[0mone_dim_orientation\u001b[0m \u001b[0;34m==\u001b[0m \u001b[0;34m'x'\u001b[0m\u001b[0;34m:\u001b[0m\u001b[0;34m\u001b[0m\u001b[0;34m\u001b[0m\u001b[0m\n",
            "\u001b[0;31mTypeError\u001b[0m: 'int' object is not iterable"
          ]
        }
      ]
    },
    {
      "cell_type": "code",
      "source": [
        "import visualkeras\n",
        "from PIL import ImageFont\n",
        "font = ImageFont.truetype(\"arial.ttf\", 12)\n",
        "visualkeras.layered_view(model, legend=True, font=font, draw_volume=False)\n",
        "visualkeras.layered_view(model, legend=True, font=font) # selected font"
      ],
      "metadata": {
        "colab": {
          "base_uri": "https://localhost:8080/",
          "height": 366
        },
        "id": "TqVB4keB0cWj",
        "outputId": "74377720-218e-413c-9479-6c98897e40df"
      },
      "execution_count": 83,
      "outputs": [
        {
          "output_type": "error",
          "ename": "TypeError",
          "evalue": "ignored",
          "traceback": [
            "\u001b[0;31m---------------------------------------------------------------------------\u001b[0m",
            "\u001b[0;31mTypeError\u001b[0m                                 Traceback (most recent call last)",
            "\u001b[0;32m<ipython-input-83-4edc82c0df82>\u001b[0m in \u001b[0;36m<cell line: 3>\u001b[0;34m()\u001b[0m\n\u001b[1;32m      1\u001b[0m \u001b[0;32mimport\u001b[0m \u001b[0mvisualkeras\u001b[0m\u001b[0;34m\u001b[0m\u001b[0;34m\u001b[0m\u001b[0m\n\u001b[1;32m      2\u001b[0m \u001b[0;32mfrom\u001b[0m \u001b[0mPIL\u001b[0m \u001b[0;32mimport\u001b[0m \u001b[0mImageFont\u001b[0m\u001b[0;34m\u001b[0m\u001b[0;34m\u001b[0m\u001b[0m\n\u001b[0;32m----> 3\u001b[0;31m \u001b[0mvisualkeras\u001b[0m\u001b[0;34m.\u001b[0m\u001b[0mlayered_view\u001b[0m\u001b[0;34m(\u001b[0m\u001b[0mmodel\u001b[0m\u001b[0;34m,\u001b[0m \u001b[0mlegend\u001b[0m\u001b[0;34m=\u001b[0m\u001b[0;32mTrue\u001b[0m\u001b[0;34m,\u001b[0m \u001b[0mdraw_volume\u001b[0m\u001b[0;34m=\u001b[0m\u001b[0;32mFalse\u001b[0m\u001b[0;34m)\u001b[0m\u001b[0;34m\u001b[0m\u001b[0;34m\u001b[0m\u001b[0m\n\u001b[0m\u001b[1;32m      4\u001b[0m \u001b[0mvisualkeras\u001b[0m\u001b[0;34m.\u001b[0m\u001b[0mlayered_view\u001b[0m\u001b[0;34m(\u001b[0m\u001b[0mmodel\u001b[0m\u001b[0;34m,\u001b[0m \u001b[0mlegend\u001b[0m\u001b[0;34m=\u001b[0m\u001b[0;32mTrue\u001b[0m\u001b[0;34m,\u001b[0m \u001b[0mfont\u001b[0m\u001b[0;34m=\u001b[0m\u001b[0mfont\u001b[0m\u001b[0;34m)\u001b[0m \u001b[0;31m# selected font\u001b[0m\u001b[0;34m\u001b[0m\u001b[0;34m\u001b[0m\u001b[0m\n",
            "\u001b[0;32m/usr/local/lib/python3.10/dist-packages/visualkeras/layered.py\u001b[0m in \u001b[0;36mlayered_view\u001b[0;34m(model, to_file, min_z, min_xy, max_z, max_xy, scale_z, scale_xy, type_ignore, index_ignore, color_map, one_dim_orientation, background_fill, draw_volume, padding, spacing, draw_funnel, shade_step, legend, font, font_color)\u001b[0m\n\u001b[1;32m     98\u001b[0m             \u001b[0mx\u001b[0m \u001b[0;34m=\u001b[0m \u001b[0mmin\u001b[0m\u001b[0;34m(\u001b[0m\u001b[0mmax\u001b[0m\u001b[0;34m(\u001b[0m\u001b[0mshape\u001b[0m\u001b[0;34m[\u001b[0m\u001b[0;36m1\u001b[0m\u001b[0;34m]\u001b[0m \u001b[0;34m*\u001b[0m \u001b[0mscale_xy\u001b[0m\u001b[0;34m,\u001b[0m \u001b[0mx\u001b[0m\u001b[0;34m)\u001b[0m\u001b[0;34m,\u001b[0m \u001b[0mmax_xy\u001b[0m\u001b[0;34m)\u001b[0m\u001b[0;34m\u001b[0m\u001b[0;34m\u001b[0m\u001b[0m\n\u001b[1;32m     99\u001b[0m             \u001b[0my\u001b[0m \u001b[0;34m=\u001b[0m \u001b[0mmin\u001b[0m\u001b[0;34m(\u001b[0m\u001b[0mmax\u001b[0m\u001b[0;34m(\u001b[0m\u001b[0mshape\u001b[0m\u001b[0;34m[\u001b[0m\u001b[0;36m2\u001b[0m\u001b[0;34m]\u001b[0m \u001b[0;34m*\u001b[0m \u001b[0mscale_xy\u001b[0m\u001b[0;34m,\u001b[0m \u001b[0my\u001b[0m\u001b[0;34m)\u001b[0m\u001b[0;34m,\u001b[0m \u001b[0mmax_xy\u001b[0m\u001b[0;34m)\u001b[0m\u001b[0;34m\u001b[0m\u001b[0;34m\u001b[0m\u001b[0m\n\u001b[0;32m--> 100\u001b[0;31m             \u001b[0mz\u001b[0m \u001b[0;34m=\u001b[0m \u001b[0mmin\u001b[0m\u001b[0;34m(\u001b[0m\u001b[0mmax\u001b[0m\u001b[0;34m(\u001b[0m\u001b[0mz\u001b[0m\u001b[0;34m)\u001b[0m\u001b[0;34m,\u001b[0m \u001b[0mmax_z\u001b[0m\u001b[0;34m)\u001b[0m\u001b[0;34m\u001b[0m\u001b[0;34m\u001b[0m\u001b[0m\n\u001b[0m\u001b[1;32m    101\u001b[0m         \u001b[0;32melif\u001b[0m \u001b[0mlen\u001b[0m\u001b[0;34m(\u001b[0m\u001b[0mshape\u001b[0m\u001b[0;34m)\u001b[0m \u001b[0;34m==\u001b[0m \u001b[0;36m2\u001b[0m\u001b[0;34m:\u001b[0m\u001b[0;34m\u001b[0m\u001b[0;34m\u001b[0m\u001b[0m\n\u001b[1;32m    102\u001b[0m             \u001b[0;32mif\u001b[0m \u001b[0mone_dim_orientation\u001b[0m \u001b[0;34m==\u001b[0m \u001b[0;34m'x'\u001b[0m\u001b[0;34m:\u001b[0m\u001b[0;34m\u001b[0m\u001b[0;34m\u001b[0m\u001b[0m\n",
            "\u001b[0;31mTypeError\u001b[0m: 'int' object is not iterable"
          ]
        }
      ]
    },
    {
      "cell_type": "code",
      "source": [
        "epochs = 500\n",
        "batch_size = 10*64\n",
        "\n",
        "from tqdm.keras import TqdmCallback\n",
        "\n",
        "# Compute the spectral background across entire clip\n",
        "# Used for spectral subtraction, a type of preprocessing/normalization technique that is often useful\n",
        "Xm = np.expand_dims(np.mean(np.concatenate([s.T for s in dataset.spectrogram]), axis=0), -1)\n",
        "\n",
        "def get_XY(split):\n",
        "    # convenience to convert\n",
        "    d = dataset[dataset.split == split]\n",
        "\n",
        "    X = np.expand_dims(np.stack([(s-Xm).T for s in d.spectrogram]), -1)\n",
        "\n",
        "    Y = np.stack([ l.T for l in d.labels], axis=0)\n",
        "    return X, Y\n",
        "\n",
        "train = get_XY(split='train')\n",
        "val = get_XY(split='val')\n",
        "\n",
        "def compute_class_weights(y_train):\n",
        "    from sklearn.utils import class_weight\n",
        "    y_train = np.squeeze(y_train).astype(int)\n",
        "    y_train = np.any(y_train, axis=1)\n",
        "    w = class_weight.compute_class_weight('balanced', classes=np.unique(y_train), y=y_train)\n",
        "    #w_dict = dict(zip(numpy.unique(y_train), w))\n",
        "    return w\n",
        "\n",
        "class_weights = compute_class_weights(train[1])\n",
        "#class_weights = None # disable class weights\n",
        "print('Class weights', class_weights)\n",
        "\n",
        "# make sure to stop when model does not improve anymore / starts overfitting\n",
        "early_stop = tensorflow.keras.callbacks.EarlyStopping(monitor='val_loss', patience=50)\n",
        "progress_bar = TqdmCallback()\n",
        "\n",
        "import tensorflow.math\n",
        "def schedule(epoch, lr):\n",
        "    if epoch < 100:\n",
        "        return lr\n",
        "    else:\n",
        "        return lr * tensorflow.math.exp(-0.1)\n",
        "\n",
        "lr_callback = tensorflow.keras.callbacks.LearningRateScheduler(schedule)\n",
        "\n",
        "#lr_callback = tensorflow.keras.callbacks.ReduceLROnPlateau(monitor='val_loss', factor=0.2, patience=20, min_lr=0.01)\n",
        "\n",
        "model = build_model(input_shape=(window_length, 32, 1), dropout=0.10, lr=1*0.001, class_weights=class_weights)\n",
        "hist = model.fit(x=train[0], y=train[1],\n",
        "        validation_data=val,\n",
        "        epochs=epochs,\n",
        "        batch_size=batch_size,\n",
        "        callbacks=[\n",
        "            progress_bar,\n",
        "            #lr_callback,\n",
        "            #early_stop,\n",
        "        ],\n",
        "        verbose=False, # using progress bar callback instead\n",
        ")\n",
        "\n",
        "def plot_history(history):\n",
        "\n",
        "    fig, axs = plt.subplots(ncols=2, figsize=(10, 4))\n",
        "    history = pd.DataFrame(hist.history)\n",
        "    history.index.name = 'epoch'\n",
        "    history.plot(ax=axs[0], y=['loss', 'val_loss'])\n",
        "    history.plot(ax=axs[1], y=['pr_auc', 'val_pr_auc'])\n",
        "    axs[1].set_ylim(0, 1.0)\n",
        "    axs[1].axhline(0.80, ls='--', color='black', alpha=0.5)\n",
        "\n",
        "    axs[0].axhline(0.10, ls='--', color='black', alpha=0.5)\n",
        "    axs[0].set_ylim(0, 1.0)\n",
        "\n",
        "plot_history(hist)"
      ],
      "metadata": {
        "colab": {
          "base_uri": "https://localhost:8080/",
          "height": 470,
          "referenced_widgets": [
            "b97e7bf6c06543c19c49418e0dd71e04",
            "e323b1b6d972459e873aa25e9820bff8",
            "455f34b487e949b5a877f3a4a9ed9cac",
            "42d2711f1574478bacc47bc1787a91d4",
            "8e2276ee02344429a665b0bd7a65ae1b",
            "75d892479b3244c08bde716e3e5ecfe1",
            "11eb1932a258458aa7d55183dd072eef",
            "f59765b3452042abb6cc9940e2b3f6ce",
            "a653d07671c24b7d9a1c5b7d2b4bc349",
            "d053c568453849228a79721f4717ddb0",
            "6d73a6fd4b2049a283970f7c2e666918",
            "88fed5200306474bb3688288d96dc03e",
            "554642b1f8eb4eb4b193767f1f2e0d3c",
            "54b189983f0f421eaa34c3a60efddbca",
            "d71b9d39fe0240b6939bb8feeb1cb2ac",
            "6703635e1f5849e6b4faec44a63c3f1e",
            "0ecee0e31f374ac78fb4e938876331ed",
            "95e202dd57074a8d982ca36075958702",
            "5d0dd60ce6cc45c19262a270451494ef",
            "2e95c26b6b064198a2cb09cc28804174",
            "bfb773062eb74e918f481371ceedc431",
            "4d70b59ec6a34d4ea6f2bdad304dd24c"
          ]
        },
        "id": "snuUJ8DFxtdM",
        "outputId": "996d36ac-b3aa-40c0-c414-d92a14dc96e9"
      },
      "execution_count": 37,
      "outputs": [
        {
          "output_type": "stream",
          "name": "stdout",
          "text": [
            "Class weights [0.85614525 1.20196078]\n"
          ]
        },
        {
          "output_type": "display_data",
          "data": {
            "text/plain": [
              "0epoch [00:00, ?epoch/s]"
            ],
            "application/vnd.jupyter.widget-view+json": {
              "version_major": 2,
              "version_minor": 0,
              "model_id": "b97e7bf6c06543c19c49418e0dd71e04"
            }
          },
          "metadata": {}
        },
        {
          "output_type": "display_data",
          "data": {
            "text/plain": [
              "0batch [00:00, ?batch/s]"
            ],
            "application/vnd.jupyter.widget-view+json": {
              "version_major": 2,
              "version_minor": 0,
              "model_id": "88fed5200306474bb3688288d96dc03e"
            }
          },
          "metadata": {}
        },
        {
          "output_type": "display_data",
          "data": {
            "text/plain": [
              "<Figure size 1000x400 with 2 Axes>"
            ],
            "image/png": "[encoded data removed]"
          },
          "metadata": {}
        }
      ]
    },
    {
      "cell_type": "code",
      "source": [
        "plot_history(hist)\n",
        "plt.savefig(\"figure6.jpeg\",dpi=800)"
      ],
      "metadata": {
        "colab": {
          "base_uri": "https://localhost:8080/",
          "height": 393
        },
        "id": "Hd_B9aSe1e1A",
        "outputId": "0eec3930-e974-40be-f135-8e7422666456"
      },
      "execution_count": 85,
      "outputs": [
        {
          "output_type": "display_data",
          "data": {
            "text/plain": [
              "<Figure size 1000x400 with 2 Axes>"
            ],
            "image/png": "[encoded data removed]"
          },
          "metadata": {}
        }
      ]
    },
    {
      "cell_type": "code",
      "source": [
        "test = get_XY(split='test')\n",
        "\n",
        "results = pd.DataFrame({\n",
        "    'split': [ 'test', 'train', 'val' ],\n",
        "})\n",
        "def get_metric(split):\n",
        "    X, Y = get_XY(split=split)\n",
        "    r = model.evaluate(x=X, y=Y, return_dict=True, verbose=False)\n",
        "    return pd.Series(r)\n",
        "\n",
        "e = results.split.apply(get_metric)\n",
        "results = pd.merge(results, e, right_index=True, left_index=True).set_index('split')\n",
        "results"
      ],
      "metadata": {
        "colab": {
          "base_uri": "https://localhost:8080/",
          "height": 174
        },
        "id": "m77YhcH6GmAy",
        "outputId": "911abc08-c36f-4cf9-ef16-87ac7a3efcc5"
      },
      "execution_count": 38,
      "outputs": [
        {
          "output_type": "execute_result",
          "data": {
            "text/plain": [
              "           loss    pr_auc  precision    recall\n",
              "split                                         \n",
              "test   0.373502  0.654443   0.598131  0.531120\n",
              "train  0.322632  0.777648   0.733542  0.619594\n",
              "val    0.367266  0.688571   0.671958  0.524793"
            ],
            "text/html": [
              "\n",
              "  <div id=\"df-cfa481c3-9e16-4b3f-8e30-782bab55b311\" class=\"colab-df-container\">\n",
              "    <div>\n",
              "<style scoped>\n",
              "    .dataframe tbody tr th:only-of-type {\n",
              "        vertical-align: middle;\n",
              "    }\n",
              "\n",
              "    .dataframe tbody tr th {\n",
              "        vertical-align: top;\n",
              "    }\n",
              "\n",
              "    .dataframe thead th {\n",
              "        text-align: right;\n",
              "    }\n",
              "</style>\n",
              "<table border=\"1\" class=\"dataframe\">\n",
              "  <thead>\n",
              "    <tr style=\"text-align: right;\">\n",
              "      <th></th>\n",
              "      <th>loss</th>\n",
              "      <th>pr_auc</th>\n",
              "      <th>precision</th>\n",
              "      <th>recall</th>\n",
              "    </tr>\n",
              "    <tr>\n",
              "      <th>split</th>\n",
              "      <th></th>\n",
              "      <th></th>\n",
              "      <th></th>\n",
              "      <th></th>\n",
              "    </tr>\n",
              "  </thead>\n",
              "  <tbody>\n",
              "    <tr>\n",
              "      <th>test</th>\n",
              "      <td>0.373502</td>\n",
              "      <td>0.654443</td>\n",
              "      <td>0.598131</td>\n",
              "      <td>0.531120</td>\n",
              "    </tr>\n",
              "    <tr>\n",
              "      <th>train</th>\n",
              "      <td>0.322632</td>\n",
              "      <td>0.777648</td>\n",
              "      <td>0.733542</td>\n",
              "      <td>0.619594</td>\n",
              "    </tr>\n",
              "    <tr>\n",
              "      <th>val</th>\n",
              "      <td>0.367266</td>\n",
              "      <td>0.688571</td>\n",
              "      <td>0.671958</td>\n",
              "      <td>0.524793</td>\n",
              "    </tr>\n",
              "  </tbody>\n",
              "</table>\n",
              "</div>\n",
              "    <div class=\"colab-df-buttons\">\n",
              "\n",
              "  <div class=\"colab-df-container\">\n",
              "    <button class=\"colab-df-convert\" onclick=\"convertToInteractive('df-cfa481c3-9e16-4b3f-8e30-782bab55b311')\"\n",
              "            title=\"Convert this dataframe to an interactive table.\"\n",
              "            style=\"display:none;\">\n",
              "\n",
              "  <svg xmlns=\"http://www.w3.org/2000/svg\" height=\"24px\" viewBox=\"0 -960 960 960\">\n",
              "    <path d=\"M120-120v-720h720v720H120Zm60-500h600v-160H180v160Zm220 220h160v-160H400v160Zm0 220h160v-160H400v160ZM180-400h160v-160H180v160Zm440 0h160v-160H620v160ZM180-180h160v-160H180v160Zm440 0h160v-160H620v160Z\"/>\n",
              "  </svg>\n",
              "    </button>\n",
              "\n",
              "  <style>\n",
              "    .colab-df-container {\n",
              "      display:flex;\n",
              "      gap: 12px;\n",
              "    }\n",
              "\n",
              "    .colab-df-convert {\n",
              "      background-color: #E8F0FE;\n",
              "      border: none;\n",
              "      border-radius: 50%;\n",
              "      cursor: pointer;\n",
              "      display: none;\n",
              "      fill: #1967D2;\n",
              "      height: 32px;\n",
              "      padding: 0 0 0 0;\n",
              "      width: 32px;\n",
              "    }\n",
              "\n",
              "    .colab-df-convert:hover {\n",
              "      background-color: #E2EBFA;\n",
              "      box-shadow: 0px 1px 2px rgba(60, 64, 67, 0.3), 0px 1px 3px 1px rgba(60, 64, 67, 0.15);\n",
              "      fill: #174EA6;\n",
              "    }\n",
              "\n",
              "    .colab-df-buttons div {\n",
              "      margin-bottom: 4px;\n",
              "    }\n",
              "\n",
              "    [theme=dark] .colab-df-convert {\n",
              "      background-color: #3B4455;\n",
              "      fill: #D2E3FC;\n",
              "    }\n",
              "\n",
              "    [theme=dark] .colab-df-convert:hover {\n",
              "      background-color: #434B5C;\n",
              "      box-shadow: 0px 1px 3px 1px rgba(0, 0, 0, 0.15);\n",
              "      filter: drop-shadow(0px 1px 2px rgba(0, 0, 0, 0.3));\n",
              "      fill: #FFFFFF;\n",
              "    }\n",
              "  </style>\n",
              "\n",
              "    <script>\n",
              "      const buttonEl =\n",
              "        document.querySelector('#df-cfa481c3-9e16-4b3f-8e30-782bab55b311 button.colab-df-convert');\n",
              "      buttonEl.style.display =\n",
              "        google.colab.kernel.accessAllowed ? 'block' : 'none';\n",
              "\n",
              "      async function convertToInteractive(key) {\n",
              "        const element = document.querySelector('#df-cfa481c3-9e16-4b3f-8e30-782bab55b311');\n",
              "        const dataTable =\n",
              "          await google.colab.kernel.invokeFunction('convertToInteractive',\n",
              "                                                    [key], {});\n",
              "        if (!dataTable) return;\n",
              "\n",
              "        const docLinkHtml = 'Like what you see? Visit the ' +\n",
              "          '<a target=\"_blank\" href=https://colab.research.google.com/notebooks/data_table.ipynb>data table notebook</a>'\n",
              "          + ' to learn more about interactive tables.';\n",
              "        element.innerHTML = '';\n",
              "        dataTable['output_type'] = 'display_data';\n",
              "        await google.colab.output.renderOutput(dataTable, element);\n",
              "        const docLink = document.createElement('div');\n",
              "        docLink.innerHTML = docLinkHtml;\n",
              "        element.appendChild(docLink);\n",
              "      }\n",
              "    </script>\n",
              "  </div>\n",
              "\n",
              "\n",
              "<div id=\"df-eb615dd9-32b7-4856-a085-8579b9c73add\">\n",
              "  <button class=\"colab-df-quickchart\" onclick=\"quickchart('df-eb615dd9-32b7-4856-a085-8579b9c73add')\"\n",
              "            title=\"Suggest charts.\"\n",
              "            style=\"display:none;\">\n",
              "\n",
              "<svg xmlns=\"http://www.w3.org/2000/svg\" height=\"24px\"viewBox=\"0 0 24 24\"\n",
              "     width=\"24px\">\n",
              "    <g>\n",
              "        <path d=\"M19 3H5c-1.1 0-2 .9-2 2v14c0 1.1.9 2 2 2h14c1.1 0 2-.9 2-2V5c0-1.1-.9-2-2-2zM9 17H7v-7h2v7zm4 0h-2V7h2v10zm4 0h-2v-4h2v4z\"/>\n",
              "    </g>\n",
              "</svg>\n",
              "  </button>\n",
              "\n",
              "<style>\n",
              "  .colab-df-quickchart {\n",
              "      --bg-color: #E8F0FE;\n",
              "      --fill-color: #1967D2;\n",
              "      --hover-bg-color: #E2EBFA;\n",
              "      --hover-fill-color: #174EA6;\n",
              "      --disabled-fill-color: #AAA;\n",
              "      --disabled-bg-color: #DDD;\n",
              "  }\n",
              "\n",
              "  [theme=dark] .colab-df-quickchart {\n",
              "      --bg-color: #3B4455;\n",
              "      --fill-color: #D2E3FC;\n",
              "      --hover-bg-color: #434B5C;\n",
              "      --hover-fill-color: #FFFFFF;\n",
              "      --disabled-bg-color: #3B4455;\n",
              "      --disabled-fill-color: #666;\n",
              "  }\n",
              "\n",
              "  .colab-df-quickchart {\n",
              "    background-color: var(--bg-color);\n",
              "    border: none;\n",
              "    border-radius: 50%;\n",
              "    cursor: pointer;\n",
              "    display: none;\n",
              "    fill: var(--fill-color);\n",
              "    height: 32px;\n",
              "    padding: 0;\n",
              "    width: 32px;\n",
              "  }\n",
              "\n",
              "  .colab-df-quickchart:hover {\n",
              "    background-color: var(--hover-bg-color);\n",
              "    box-shadow: 0 1px 2px rgba(60, 64, 67, 0.3), 0 1px 3px 1px rgba(60, 64, 67, 0.15);\n",
              "    fill: var(--button-hover-fill-color);\n",
              "  }\n",
              "\n",
              "  .colab-df-quickchart-complete:disabled,\n",
              "  .colab-df-quickchart-complete:disabled:hover {\n",
              "    background-color: var(--disabled-bg-color);\n",
              "    fill: var(--disabled-fill-color);\n",
              "    box-shadow: none;\n",
              "  }\n",
              "\n",
              "  .colab-df-spinner {\n",
              "    border: 2px solid var(--fill-color);\n",
              "    border-color: transparent;\n",
              "    border-bottom-color: var(--fill-color);\n",
              "    animation:\n",
              "      spin 1s steps(1) infinite;\n",
              "  }\n",
              "\n",
              "  @keyframes spin {\n",
              "    0% {\n",
              "      border-color: transparent;\n",
              "      border-bottom-color: var(--fill-color);\n",
              "      border-left-color: var(--fill-color);\n",
              "    }\n",
              "    20% {\n",
              "      border-color: transparent;\n",
              "      border-left-color: var(--fill-color);\n",
              "      border-top-color: var(--fill-color);\n",
              "    }\n",
              "    30% {\n",
              "      border-color: transparent;\n",
              "      border-left-color: var(--fill-color);\n",
              "      border-top-color: var(--fill-color);\n",
              "      border-right-color: var(--fill-color);\n",
              "    }\n",
              "    40% {\n",
              "      border-color: transparent;\n",
              "      border-right-color: var(--fill-color);\n",
              "      border-top-color: var(--fill-color);\n",
              "    }\n",
              "    60% {\n",
              "      border-color: transparent;\n",
              "      border-right-color: var(--fill-color);\n",
              "    }\n",
              "    80% {\n",
              "      border-color: transparent;\n",
              "      border-right-color: var(--fill-color);\n",
              "      border-bottom-color: var(--fill-color);\n",
              "    }\n",
              "    90% {\n",
              "      border-color: transparent;\n",
              "      border-bottom-color: var(--fill-color);\n",
              "    }\n",
              "  }\n",
              "</style>\n",
              "\n",
              "  <script>\n",
              "    async function quickchart(key) {\n",
              "      const quickchartButtonEl =\n",
              "        document.querySelector('#' + key + ' button');\n",
              "      quickchartButtonEl.disabled = true;  // To prevent multiple clicks.\n",
              "      quickchartButtonEl.classList.add('colab-df-spinner');\n",
              "      try {\n",
              "        const charts = await google.colab.kernel.invokeFunction(\n",
              "            'suggestCharts', [key], {});\n",
              "      } catch (error) {\n",
              "        console.error('Error during call to suggestCharts:', error);\n",
              "      }\n",
              "      quickchartButtonEl.classList.remove('colab-df-spinner');\n",
              "      quickchartButtonEl.classList.add('colab-df-quickchart-complete');\n",
              "    }\n",
              "    (() => {\n",
              "      let quickchartButtonEl =\n",
              "        document.querySelector('#df-eb615dd9-32b7-4856-a085-8579b9c73add button');\n",
              "      quickchartButtonEl.style.display =\n",
              "        google.colab.kernel.accessAllowed ? 'block' : 'none';\n",
              "    })();\n",
              "  </script>\n",
              "</div>\n",
              "    </div>\n",
              "  </div>\n"
            ]
          },
          "metadata": {},
          "execution_count": 38
        }
      ]
    },
    {
      "cell_type": "code",
      "source": [],
      "metadata": {
        "id": "SKzUWz8zzo6K"
      },
      "execution_count": null,
      "outputs": []
    }
  ]
}